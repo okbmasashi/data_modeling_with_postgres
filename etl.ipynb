{
 "cells": [
  {
   "cell_type": "markdown",
   "metadata": {
    "editable": true
   },
   "source": [
    "# ETL Processes\n",
    "Use this notebook to develop the ETL process for each of your tables before completing the `etl.py` file to load the whole datasets."
   ]
  },
  {
   "cell_type": "code",
   "execution_count": 22,
   "metadata": {
    "editable": true
   },
   "outputs": [],
   "source": [
    "import os\n",
    "import glob\n",
    "import psycopg2\n",
    "import pandas as pd\n",
    "from sql_queries import *"
   ]
  },
  {
   "cell_type": "code",
   "execution_count": 23,
   "metadata": {
    "editable": true
   },
   "outputs": [],
   "source": [
    "conn = psycopg2.connect(\"host=127.0.0.1 dbname=sparkifydb user=student password=student\")\n",
    "cur = conn.cursor()"
   ]
  },
  {
   "cell_type": "code",
   "execution_count": 24,
   "metadata": {
    "editable": true
   },
   "outputs": [],
   "source": [
    "def get_files(filepath):\n",
    "    all_files = []\n",
    "    for root, dirs, files in os.walk(filepath):\n",
    "        files = glob.glob(os.path.join(root,'*.json'))\n",
    "        for f in files :\n",
    "            all_files.append(os.path.abspath(f))\n",
    "    \n",
    "    return all_files"
   ]
  },
  {
   "cell_type": "markdown",
   "metadata": {
    "editable": true
   },
   "source": [
    "# Process `song_data`\n",
    "In this first part, you'll perform ETL on the first dataset, `song_data`, to create the `songs` and `artists` dimensional tables.\n",
    "\n",
    "Let's perform ETL on a single song file and load a single record into each table to start.\n",
    "- Use the `get_files` function provided above to get a list of all song JSON files in `data/song_data`\n",
    "- Select the first song in this list\n",
    "- Read the song file and view the data"
   ]
  },
  {
   "cell_type": "code",
   "execution_count": 25,
   "metadata": {
    "editable": true
   },
   "outputs": [],
   "source": [
    "SONG_DATA_PATH = \"./data/song_data\"\n",
    "song_files = get_files(SONG_DATA_PATH)"
   ]
  },
  {
   "cell_type": "code",
   "execution_count": 26,
   "metadata": {
    "editable": true
   },
   "outputs": [],
   "source": [
    "filepath = song_files[0]"
   ]
  },
  {
   "cell_type": "code",
   "execution_count": 27,
   "metadata": {
    "editable": true
   },
   "outputs": [
    {
     "data": {
      "text/html": [
       "<div>\n",
       "<style scoped>\n",
       "    .dataframe tbody tr th:only-of-type {\n",
       "        vertical-align: middle;\n",
       "    }\n",
       "\n",
       "    .dataframe tbody tr th {\n",
       "        vertical-align: top;\n",
       "    }\n",
       "\n",
       "    .dataframe thead th {\n",
       "        text-align: right;\n",
       "    }\n",
       "</style>\n",
       "<table border=\"1\" class=\"dataframe\">\n",
       "  <thead>\n",
       "    <tr style=\"text-align: right;\">\n",
       "      <th></th>\n",
       "      <th>artist_id</th>\n",
       "      <th>artist_latitude</th>\n",
       "      <th>artist_location</th>\n",
       "      <th>artist_longitude</th>\n",
       "      <th>artist_name</th>\n",
       "      <th>duration</th>\n",
       "      <th>num_songs</th>\n",
       "      <th>song_id</th>\n",
       "      <th>title</th>\n",
       "      <th>year</th>\n",
       "    </tr>\n",
       "  </thead>\n",
       "  <tbody>\n",
       "    <tr>\n",
       "      <th>0</th>\n",
       "      <td>ARD7TVE1187B99BFB1</td>\n",
       "      <td>NaN</td>\n",
       "      <td>California - LA</td>\n",
       "      <td>NaN</td>\n",
       "      <td>Casual</td>\n",
       "      <td>218.93179</td>\n",
       "      <td>1</td>\n",
       "      <td>SOMZWCG12A8C13C480</td>\n",
       "      <td>I Didn't Mean To</td>\n",
       "      <td>0</td>\n",
       "    </tr>\n",
       "  </tbody>\n",
       "</table>\n",
       "</div>"
      ],
      "text/plain": [
       "            artist_id  artist_latitude  artist_location  artist_longitude  \\\n",
       "0  ARD7TVE1187B99BFB1              NaN  California - LA               NaN   \n",
       "\n",
       "  artist_name   duration  num_songs             song_id             title  \\\n",
       "0      Casual  218.93179          1  SOMZWCG12A8C13C480  I Didn't Mean To   \n",
       "\n",
       "   year  \n",
       "0     0  "
      ]
     },
     "execution_count": 27,
     "metadata": {},
     "output_type": "execute_result"
    }
   ],
   "source": [
    "df = pd.read_json(filepath, lines=True)\n",
    "df.head()"
   ]
  },
  {
   "cell_type": "markdown",
   "metadata": {
    "editable": true
   },
   "source": [
    "## #1: `songs` Table\n",
    "#### Extract Data for Songs Table\n",
    "- Select columns for song ID, title, artist ID, year, and duration\n",
    "- Use `df.values` to select just the values from the dataframe\n",
    "- Index to select the first (only) record in the dataframe\n",
    "- Convert the array to a list and set it to `song_data`"
   ]
  },
  {
   "cell_type": "code",
   "execution_count": 28,
   "metadata": {
    "editable": true
   },
   "outputs": [
    {
     "data": {
      "text/plain": [
       "['SOMZWCG12A8C13C480', \"I Didn't Mean To\", 'ARD7TVE1187B99BFB1', 0, 218.93179]"
      ]
     },
     "execution_count": 28,
     "metadata": {},
     "output_type": "execute_result"
    }
   ],
   "source": [
    "song_data = [df['song_id'].values[0], \n",
    "             df['title'].values[0], \n",
    "             df['artist_id'].values[0],\n",
    "             int(df['year'].values[0]),\n",
    "             float(df['duration'].values[0])]\n",
    "song_data"
   ]
  },
  {
   "cell_type": "markdown",
   "metadata": {
    "editable": true
   },
   "source": [
    "#### Insert Record into Song Table\n",
    "Implement the `song_table_insert` query in `sql_queries.py` and run the cell below to insert a record for this song into the `songs` table. Remember to run `create_tables.py` before running the cell below to ensure you've created/resetted the `songs` table in the sparkify database."
   ]
  },
  {
   "cell_type": "code",
   "execution_count": 29,
   "metadata": {
    "editable": true
   },
   "outputs": [],
   "source": [
    "cur.execute(song_table_insert, song_data)\n",
    "conn.commit()"
   ]
  },
  {
   "cell_type": "markdown",
   "metadata": {
    "editable": true
   },
   "source": [
    "Run `test.ipynb` to see if you've successfully added a record to this table."
   ]
  },
  {
   "cell_type": "markdown",
   "metadata": {
    "editable": true
   },
   "source": [
    "## #2: `artists` Table\n",
    "#### Extract Data for Artists Table\n",
    "- Select columns for artist ID, name, location, latitude, and longitude\n",
    "- Use `df.values` to select just the values from the dataframe\n",
    "- Index to select the first (only) record in the dataframe\n",
    "- Convert the array to a list and set it to `artist_data`"
   ]
  },
  {
   "cell_type": "code",
   "execution_count": 30,
   "metadata": {
    "editable": true
   },
   "outputs": [
    {
     "data": {
      "text/plain": [
       "['ARD7TVE1187B99BFB1', 'Casual', 'California - LA', nan, nan]"
      ]
     },
     "execution_count": 30,
     "metadata": {},
     "output_type": "execute_result"
    }
   ],
   "source": [
    "artist_data = [df['artist_id'].values[0], \n",
    "             df['artist_name'].values[0], \n",
    "             df['artist_location'].values[0],\n",
    "             df['artist_latitude'].values[0],\n",
    "             df['artist_longitude'].values[0]]\n",
    "artist_data"
   ]
  },
  {
   "cell_type": "markdown",
   "metadata": {
    "editable": true
   },
   "source": [
    "#### Insert Record into Artist Table\n",
    "Implement the `artist_table_insert` query in `sql_queries.py` and run the cell below to insert a record for this song's artist into the `artists` table. Remember to run `create_tables.py` before running the cell below to ensure you've created/resetted the `artists` table in the sparkify database."
   ]
  },
  {
   "cell_type": "code",
   "execution_count": 31,
   "metadata": {
    "editable": true
   },
   "outputs": [],
   "source": [
    "cur.execute(artist_table_insert, artist_data)\n",
    "conn.commit()"
   ]
  },
  {
   "cell_type": "markdown",
   "metadata": {
    "editable": true
   },
   "source": [
    "Run `test.ipynb` to see if you've successfully added a record to this table."
   ]
  },
  {
   "cell_type": "markdown",
   "metadata": {
    "editable": true
   },
   "source": [
    "# Process `log_data`\n",
    "In this part, you'll perform ETL on the second dataset, `log_data`, to create the `time` and `users` dimensional tables, as well as the `songplays` fact table.\n",
    "\n",
    "Let's perform ETL on a single log file and load a single record into each table.\n",
    "- Use the `get_files` function provided above to get a list of all log JSON files in `data/log_data`\n",
    "- Select the first log file in this list\n",
    "- Read the log file and view the data"
   ]
  },
  {
   "cell_type": "code",
   "execution_count": 32,
   "metadata": {
    "editable": true
   },
   "outputs": [],
   "source": [
    "LOG_DATA_PATH = \"./data/log_data\"\n",
    "log_files = get_files(LOG_DATA_PATH)"
   ]
  },
  {
   "cell_type": "code",
   "execution_count": 33,
   "metadata": {
    "editable": true
   },
   "outputs": [],
   "source": [
    "filepath = log_files[0]"
   ]
  },
  {
   "cell_type": "code",
   "execution_count": 34,
   "metadata": {
    "editable": true
   },
   "outputs": [
    {
     "data": {
      "text/html": [
       "<div>\n",
       "<style scoped>\n",
       "    .dataframe tbody tr th:only-of-type {\n",
       "        vertical-align: middle;\n",
       "    }\n",
       "\n",
       "    .dataframe tbody tr th {\n",
       "        vertical-align: top;\n",
       "    }\n",
       "\n",
       "    .dataframe thead th {\n",
       "        text-align: right;\n",
       "    }\n",
       "</style>\n",
       "<table border=\"1\" class=\"dataframe\">\n",
       "  <thead>\n",
       "    <tr style=\"text-align: right;\">\n",
       "      <th></th>\n",
       "      <th>artist</th>\n",
       "      <th>auth</th>\n",
       "      <th>firstName</th>\n",
       "      <th>gender</th>\n",
       "      <th>itemInSession</th>\n",
       "      <th>lastName</th>\n",
       "      <th>length</th>\n",
       "      <th>level</th>\n",
       "      <th>location</th>\n",
       "      <th>method</th>\n",
       "      <th>page</th>\n",
       "      <th>registration</th>\n",
       "      <th>sessionId</th>\n",
       "      <th>song</th>\n",
       "      <th>status</th>\n",
       "      <th>ts</th>\n",
       "      <th>userAgent</th>\n",
       "      <th>userId</th>\n",
       "    </tr>\n",
       "  </thead>\n",
       "  <tbody>\n",
       "    <tr>\n",
       "      <th>0</th>\n",
       "      <td>Stephen Lynch</td>\n",
       "      <td>Logged In</td>\n",
       "      <td>Jayden</td>\n",
       "      <td>M</td>\n",
       "      <td>0</td>\n",
       "      <td>Bell</td>\n",
       "      <td>182.85669</td>\n",
       "      <td>free</td>\n",
       "      <td>Dallas-Fort Worth-Arlington, TX</td>\n",
       "      <td>PUT</td>\n",
       "      <td>NextSong</td>\n",
       "      <td>1.540992e+12</td>\n",
       "      <td>829</td>\n",
       "      <td>Jim Henson's Dead</td>\n",
       "      <td>200</td>\n",
       "      <td>1543537327796</td>\n",
       "      <td>Mozilla/5.0 (compatible; MSIE 10.0; Windows NT...</td>\n",
       "      <td>91</td>\n",
       "    </tr>\n",
       "    <tr>\n",
       "      <th>1</th>\n",
       "      <td>Manowar</td>\n",
       "      <td>Logged In</td>\n",
       "      <td>Jacob</td>\n",
       "      <td>M</td>\n",
       "      <td>0</td>\n",
       "      <td>Klein</td>\n",
       "      <td>247.56200</td>\n",
       "      <td>paid</td>\n",
       "      <td>Tampa-St. Petersburg-Clearwater, FL</td>\n",
       "      <td>PUT</td>\n",
       "      <td>NextSong</td>\n",
       "      <td>1.540558e+12</td>\n",
       "      <td>1049</td>\n",
       "      <td>Shell Shock</td>\n",
       "      <td>200</td>\n",
       "      <td>1543540121796</td>\n",
       "      <td>\"Mozilla/5.0 (Macintosh; Intel Mac OS X 10_9_4...</td>\n",
       "      <td>73</td>\n",
       "    </tr>\n",
       "    <tr>\n",
       "      <th>2</th>\n",
       "      <td>Morcheeba</td>\n",
       "      <td>Logged In</td>\n",
       "      <td>Jacob</td>\n",
       "      <td>M</td>\n",
       "      <td>1</td>\n",
       "      <td>Klein</td>\n",
       "      <td>257.41016</td>\n",
       "      <td>paid</td>\n",
       "      <td>Tampa-St. Petersburg-Clearwater, FL</td>\n",
       "      <td>PUT</td>\n",
       "      <td>NextSong</td>\n",
       "      <td>1.540558e+12</td>\n",
       "      <td>1049</td>\n",
       "      <td>Women Lose Weight (Feat: Slick Rick)</td>\n",
       "      <td>200</td>\n",
       "      <td>1543540368796</td>\n",
       "      <td>\"Mozilla/5.0 (Macintosh; Intel Mac OS X 10_9_4...</td>\n",
       "      <td>73</td>\n",
       "    </tr>\n",
       "    <tr>\n",
       "      <th>3</th>\n",
       "      <td>Maroon 5</td>\n",
       "      <td>Logged In</td>\n",
       "      <td>Jacob</td>\n",
       "      <td>M</td>\n",
       "      <td>2</td>\n",
       "      <td>Klein</td>\n",
       "      <td>231.23546</td>\n",
       "      <td>paid</td>\n",
       "      <td>Tampa-St. Petersburg-Clearwater, FL</td>\n",
       "      <td>PUT</td>\n",
       "      <td>NextSong</td>\n",
       "      <td>1.540558e+12</td>\n",
       "      <td>1049</td>\n",
       "      <td>Won't Go Home Without You</td>\n",
       "      <td>200</td>\n",
       "      <td>1543540625796</td>\n",
       "      <td>\"Mozilla/5.0 (Macintosh; Intel Mac OS X 10_9_4...</td>\n",
       "      <td>73</td>\n",
       "    </tr>\n",
       "    <tr>\n",
       "      <th>4</th>\n",
       "      <td>Train</td>\n",
       "      <td>Logged In</td>\n",
       "      <td>Jacob</td>\n",
       "      <td>M</td>\n",
       "      <td>3</td>\n",
       "      <td>Klein</td>\n",
       "      <td>216.76363</td>\n",
       "      <td>paid</td>\n",
       "      <td>Tampa-St. Petersburg-Clearwater, FL</td>\n",
       "      <td>PUT</td>\n",
       "      <td>NextSong</td>\n",
       "      <td>1.540558e+12</td>\n",
       "      <td>1049</td>\n",
       "      <td>Hey_ Soul Sister</td>\n",
       "      <td>200</td>\n",
       "      <td>1543540856796</td>\n",
       "      <td>\"Mozilla/5.0 (Macintosh; Intel Mac OS X 10_9_4...</td>\n",
       "      <td>73</td>\n",
       "    </tr>\n",
       "  </tbody>\n",
       "</table>\n",
       "</div>"
      ],
      "text/plain": [
       "          artist       auth firstName gender  itemInSession lastName  \\\n",
       "0  Stephen Lynch  Logged In    Jayden      M              0     Bell   \n",
       "1        Manowar  Logged In     Jacob      M              0    Klein   \n",
       "2      Morcheeba  Logged In     Jacob      M              1    Klein   \n",
       "3       Maroon 5  Logged In     Jacob      M              2    Klein   \n",
       "4          Train  Logged In     Jacob      M              3    Klein   \n",
       "\n",
       "      length level                             location method      page  \\\n",
       "0  182.85669  free      Dallas-Fort Worth-Arlington, TX    PUT  NextSong   \n",
       "1  247.56200  paid  Tampa-St. Petersburg-Clearwater, FL    PUT  NextSong   \n",
       "2  257.41016  paid  Tampa-St. Petersburg-Clearwater, FL    PUT  NextSong   \n",
       "3  231.23546  paid  Tampa-St. Petersburg-Clearwater, FL    PUT  NextSong   \n",
       "4  216.76363  paid  Tampa-St. Petersburg-Clearwater, FL    PUT  NextSong   \n",
       "\n",
       "   registration  sessionId                                  song  status  \\\n",
       "0  1.540992e+12        829                     Jim Henson's Dead     200   \n",
       "1  1.540558e+12       1049                           Shell Shock     200   \n",
       "2  1.540558e+12       1049  Women Lose Weight (Feat: Slick Rick)     200   \n",
       "3  1.540558e+12       1049             Won't Go Home Without You     200   \n",
       "4  1.540558e+12       1049                      Hey_ Soul Sister     200   \n",
       "\n",
       "              ts                                          userAgent userId  \n",
       "0  1543537327796  Mozilla/5.0 (compatible; MSIE 10.0; Windows NT...     91  \n",
       "1  1543540121796  \"Mozilla/5.0 (Macintosh; Intel Mac OS X 10_9_4...     73  \n",
       "2  1543540368796  \"Mozilla/5.0 (Macintosh; Intel Mac OS X 10_9_4...     73  \n",
       "3  1543540625796  \"Mozilla/5.0 (Macintosh; Intel Mac OS X 10_9_4...     73  \n",
       "4  1543540856796  \"Mozilla/5.0 (Macintosh; Intel Mac OS X 10_9_4...     73  "
      ]
     },
     "execution_count": 34,
     "metadata": {},
     "output_type": "execute_result"
    }
   ],
   "source": [
    "df = pd.read_json(filepath, lines=True)\n",
    "df.head()"
   ]
  },
  {
   "cell_type": "markdown",
   "metadata": {
    "editable": true
   },
   "source": [
    "## #3: `time` Table\n",
    "#### Extract Data for Time Table\n",
    "- Filter records by `NextSong` action\n",
    "- Convert the `ts` timestamp column to datetime\n",
    "  - Hint: the current timestamp is in milliseconds\n",
    "- Extract the timestamp, hour, day, week of year, month, year, and weekday from the `ts` column and set `time_data` to a list containing these values in order\n",
    "  - Hint: use pandas' [`dt` attribute](https://pandas.pydata.org/pandas-docs/stable/reference/api/pandas.Series.dt.html) to access easily datetimelike properties.\n",
    "- Specify labels for these columns and set to `column_labels`\n",
    "- Create a dataframe, `time_df,` containing the time data for this file by combining `column_labels` and `time_data` into a dictionary and converting this into a dataframe"
   ]
  },
  {
   "cell_type": "code",
   "execution_count": 35,
   "metadata": {
    "editable": true
   },
   "outputs": [
    {
     "data": {
      "text/html": [
       "<div>\n",
       "<style scoped>\n",
       "    .dataframe tbody tr th:only-of-type {\n",
       "        vertical-align: middle;\n",
       "    }\n",
       "\n",
       "    .dataframe tbody tr th {\n",
       "        vertical-align: top;\n",
       "    }\n",
       "\n",
       "    .dataframe thead th {\n",
       "        text-align: right;\n",
       "    }\n",
       "</style>\n",
       "<table border=\"1\" class=\"dataframe\">\n",
       "  <thead>\n",
       "    <tr style=\"text-align: right;\">\n",
       "      <th></th>\n",
       "      <th>artist</th>\n",
       "      <th>auth</th>\n",
       "      <th>firstName</th>\n",
       "      <th>gender</th>\n",
       "      <th>itemInSession</th>\n",
       "      <th>lastName</th>\n",
       "      <th>length</th>\n",
       "      <th>level</th>\n",
       "      <th>location</th>\n",
       "      <th>method</th>\n",
       "      <th>page</th>\n",
       "      <th>registration</th>\n",
       "      <th>sessionId</th>\n",
       "      <th>song</th>\n",
       "      <th>status</th>\n",
       "      <th>ts</th>\n",
       "      <th>userAgent</th>\n",
       "      <th>userId</th>\n",
       "    </tr>\n",
       "  </thead>\n",
       "  <tbody>\n",
       "    <tr>\n",
       "      <th>0</th>\n",
       "      <td>Stephen Lynch</td>\n",
       "      <td>Logged In</td>\n",
       "      <td>Jayden</td>\n",
       "      <td>M</td>\n",
       "      <td>0</td>\n",
       "      <td>Bell</td>\n",
       "      <td>182.85669</td>\n",
       "      <td>free</td>\n",
       "      <td>Dallas-Fort Worth-Arlington, TX</td>\n",
       "      <td>PUT</td>\n",
       "      <td>NextSong</td>\n",
       "      <td>1.540992e+12</td>\n",
       "      <td>829</td>\n",
       "      <td>Jim Henson's Dead</td>\n",
       "      <td>200</td>\n",
       "      <td>1543537327796</td>\n",
       "      <td>Mozilla/5.0 (compatible; MSIE 10.0; Windows NT...</td>\n",
       "      <td>91</td>\n",
       "    </tr>\n",
       "    <tr>\n",
       "      <th>1</th>\n",
       "      <td>Manowar</td>\n",
       "      <td>Logged In</td>\n",
       "      <td>Jacob</td>\n",
       "      <td>M</td>\n",
       "      <td>0</td>\n",
       "      <td>Klein</td>\n",
       "      <td>247.56200</td>\n",
       "      <td>paid</td>\n",
       "      <td>Tampa-St. Petersburg-Clearwater, FL</td>\n",
       "      <td>PUT</td>\n",
       "      <td>NextSong</td>\n",
       "      <td>1.540558e+12</td>\n",
       "      <td>1049</td>\n",
       "      <td>Shell Shock</td>\n",
       "      <td>200</td>\n",
       "      <td>1543540121796</td>\n",
       "      <td>\"Mozilla/5.0 (Macintosh; Intel Mac OS X 10_9_4...</td>\n",
       "      <td>73</td>\n",
       "    </tr>\n",
       "    <tr>\n",
       "      <th>2</th>\n",
       "      <td>Morcheeba</td>\n",
       "      <td>Logged In</td>\n",
       "      <td>Jacob</td>\n",
       "      <td>M</td>\n",
       "      <td>1</td>\n",
       "      <td>Klein</td>\n",
       "      <td>257.41016</td>\n",
       "      <td>paid</td>\n",
       "      <td>Tampa-St. Petersburg-Clearwater, FL</td>\n",
       "      <td>PUT</td>\n",
       "      <td>NextSong</td>\n",
       "      <td>1.540558e+12</td>\n",
       "      <td>1049</td>\n",
       "      <td>Women Lose Weight (Feat: Slick Rick)</td>\n",
       "      <td>200</td>\n",
       "      <td>1543540368796</td>\n",
       "      <td>\"Mozilla/5.0 (Macintosh; Intel Mac OS X 10_9_4...</td>\n",
       "      <td>73</td>\n",
       "    </tr>\n",
       "    <tr>\n",
       "      <th>3</th>\n",
       "      <td>Maroon 5</td>\n",
       "      <td>Logged In</td>\n",
       "      <td>Jacob</td>\n",
       "      <td>M</td>\n",
       "      <td>2</td>\n",
       "      <td>Klein</td>\n",
       "      <td>231.23546</td>\n",
       "      <td>paid</td>\n",
       "      <td>Tampa-St. Petersburg-Clearwater, FL</td>\n",
       "      <td>PUT</td>\n",
       "      <td>NextSong</td>\n",
       "      <td>1.540558e+12</td>\n",
       "      <td>1049</td>\n",
       "      <td>Won't Go Home Without You</td>\n",
       "      <td>200</td>\n",
       "      <td>1543540625796</td>\n",
       "      <td>\"Mozilla/5.0 (Macintosh; Intel Mac OS X 10_9_4...</td>\n",
       "      <td>73</td>\n",
       "    </tr>\n",
       "    <tr>\n",
       "      <th>4</th>\n",
       "      <td>Train</td>\n",
       "      <td>Logged In</td>\n",
       "      <td>Jacob</td>\n",
       "      <td>M</td>\n",
       "      <td>3</td>\n",
       "      <td>Klein</td>\n",
       "      <td>216.76363</td>\n",
       "      <td>paid</td>\n",
       "      <td>Tampa-St. Petersburg-Clearwater, FL</td>\n",
       "      <td>PUT</td>\n",
       "      <td>NextSong</td>\n",
       "      <td>1.540558e+12</td>\n",
       "      <td>1049</td>\n",
       "      <td>Hey_ Soul Sister</td>\n",
       "      <td>200</td>\n",
       "      <td>1543540856796</td>\n",
       "      <td>\"Mozilla/5.0 (Macintosh; Intel Mac OS X 10_9_4...</td>\n",
       "      <td>73</td>\n",
       "    </tr>\n",
       "  </tbody>\n",
       "</table>\n",
       "</div>"
      ],
      "text/plain": [
       "          artist       auth firstName gender  itemInSession lastName  \\\n",
       "0  Stephen Lynch  Logged In    Jayden      M              0     Bell   \n",
       "1        Manowar  Logged In     Jacob      M              0    Klein   \n",
       "2      Morcheeba  Logged In     Jacob      M              1    Klein   \n",
       "3       Maroon 5  Logged In     Jacob      M              2    Klein   \n",
       "4          Train  Logged In     Jacob      M              3    Klein   \n",
       "\n",
       "      length level                             location method      page  \\\n",
       "0  182.85669  free      Dallas-Fort Worth-Arlington, TX    PUT  NextSong   \n",
       "1  247.56200  paid  Tampa-St. Petersburg-Clearwater, FL    PUT  NextSong   \n",
       "2  257.41016  paid  Tampa-St. Petersburg-Clearwater, FL    PUT  NextSong   \n",
       "3  231.23546  paid  Tampa-St. Petersburg-Clearwater, FL    PUT  NextSong   \n",
       "4  216.76363  paid  Tampa-St. Petersburg-Clearwater, FL    PUT  NextSong   \n",
       "\n",
       "   registration  sessionId                                  song  status  \\\n",
       "0  1.540992e+12        829                     Jim Henson's Dead     200   \n",
       "1  1.540558e+12       1049                           Shell Shock     200   \n",
       "2  1.540558e+12       1049  Women Lose Weight (Feat: Slick Rick)     200   \n",
       "3  1.540558e+12       1049             Won't Go Home Without You     200   \n",
       "4  1.540558e+12       1049                      Hey_ Soul Sister     200   \n",
       "\n",
       "              ts                                          userAgent userId  \n",
       "0  1543537327796  Mozilla/5.0 (compatible; MSIE 10.0; Windows NT...     91  \n",
       "1  1543540121796  \"Mozilla/5.0 (Macintosh; Intel Mac OS X 10_9_4...     73  \n",
       "2  1543540368796  \"Mozilla/5.0 (Macintosh; Intel Mac OS X 10_9_4...     73  \n",
       "3  1543540625796  \"Mozilla/5.0 (Macintosh; Intel Mac OS X 10_9_4...     73  \n",
       "4  1543540856796  \"Mozilla/5.0 (Macintosh; Intel Mac OS X 10_9_4...     73  "
      ]
     },
     "execution_count": 35,
     "metadata": {},
     "output_type": "execute_result"
    }
   ],
   "source": [
    "df = df[df['page'] == 'NextSong']\n",
    "df.head()"
   ]
  },
  {
   "cell_type": "code",
   "execution_count": 36,
   "metadata": {
    "editable": true
   },
   "outputs": [
    {
     "data": {
      "text/plain": [
       "0   2018-11-30 00:22:07.796\n",
       "1   2018-11-30 01:08:41.796\n",
       "2   2018-11-30 01:12:48.796\n",
       "3   2018-11-30 01:17:05.796\n",
       "4   2018-11-30 01:20:56.796\n",
       "Name: ts, dtype: datetime64[ns]"
      ]
     },
     "execution_count": 36,
     "metadata": {},
     "output_type": "execute_result"
    }
   ],
   "source": [
    "t = pd.to_datetime(df['ts'], unit='ms')\n",
    "t.head()"
   ]
  },
  {
   "cell_type": "code",
   "execution_count": 37,
   "metadata": {
    "editable": true
   },
   "outputs": [],
   "source": [
    "#timestamp, hour, day, week of year, month, year, and weekday\n",
    "time_data = pd.concat([t, \n",
    "              t.dt.hour,\n",
    "              t.dt.day,\n",
    "              t.dt.week,\n",
    "              t.dt.month,\n",
    "              t.dt.year,\n",
    "              t.dt.weekday],axis=1)\n",
    "column_labels = (['datetime',\n",
    "                  'hour',\n",
    "                  'day',\n",
    "                  'week',\n",
    "                  'month',\n",
    "                  'year',\n",
    "                  'weekday'])"
   ]
  },
  {
   "cell_type": "code",
   "execution_count": 38,
   "metadata": {
    "editable": true
   },
   "outputs": [
    {
     "name": "stderr",
     "output_type": "stream",
     "text": [
      "/opt/conda/lib/python3.6/site-packages/ipykernel_launcher.py:2: FutureWarning: set_axis currently defaults to operating inplace.\n",
      "This will change in a future version of pandas, use inplace=True to avoid this warning.\n",
      "  \n"
     ]
    },
    {
     "data": {
      "text/html": [
       "<div>\n",
       "<style scoped>\n",
       "    .dataframe tbody tr th:only-of-type {\n",
       "        vertical-align: middle;\n",
       "    }\n",
       "\n",
       "    .dataframe tbody tr th {\n",
       "        vertical-align: top;\n",
       "    }\n",
       "\n",
       "    .dataframe thead th {\n",
       "        text-align: right;\n",
       "    }\n",
       "</style>\n",
       "<table border=\"1\" class=\"dataframe\">\n",
       "  <thead>\n",
       "    <tr style=\"text-align: right;\">\n",
       "      <th></th>\n",
       "      <th>datetime</th>\n",
       "      <th>hour</th>\n",
       "      <th>day</th>\n",
       "      <th>week</th>\n",
       "      <th>month</th>\n",
       "      <th>year</th>\n",
       "      <th>weekday</th>\n",
       "    </tr>\n",
       "  </thead>\n",
       "  <tbody>\n",
       "    <tr>\n",
       "      <th>0</th>\n",
       "      <td>2018-11-30 00:22:07.796</td>\n",
       "      <td>0</td>\n",
       "      <td>30</td>\n",
       "      <td>48</td>\n",
       "      <td>11</td>\n",
       "      <td>2018</td>\n",
       "      <td>4</td>\n",
       "    </tr>\n",
       "    <tr>\n",
       "      <th>1</th>\n",
       "      <td>2018-11-30 01:08:41.796</td>\n",
       "      <td>1</td>\n",
       "      <td>30</td>\n",
       "      <td>48</td>\n",
       "      <td>11</td>\n",
       "      <td>2018</td>\n",
       "      <td>4</td>\n",
       "    </tr>\n",
       "    <tr>\n",
       "      <th>2</th>\n",
       "      <td>2018-11-30 01:12:48.796</td>\n",
       "      <td>1</td>\n",
       "      <td>30</td>\n",
       "      <td>48</td>\n",
       "      <td>11</td>\n",
       "      <td>2018</td>\n",
       "      <td>4</td>\n",
       "    </tr>\n",
       "    <tr>\n",
       "      <th>3</th>\n",
       "      <td>2018-11-30 01:17:05.796</td>\n",
       "      <td>1</td>\n",
       "      <td>30</td>\n",
       "      <td>48</td>\n",
       "      <td>11</td>\n",
       "      <td>2018</td>\n",
       "      <td>4</td>\n",
       "    </tr>\n",
       "    <tr>\n",
       "      <th>4</th>\n",
       "      <td>2018-11-30 01:20:56.796</td>\n",
       "      <td>1</td>\n",
       "      <td>30</td>\n",
       "      <td>48</td>\n",
       "      <td>11</td>\n",
       "      <td>2018</td>\n",
       "      <td>4</td>\n",
       "    </tr>\n",
       "  </tbody>\n",
       "</table>\n",
       "</div>"
      ],
      "text/plain": [
       "                 datetime  hour  day  week  month  year  weekday\n",
       "0 2018-11-30 00:22:07.796     0   30    48     11  2018        4\n",
       "1 2018-11-30 01:08:41.796     1   30    48     11  2018        4\n",
       "2 2018-11-30 01:12:48.796     1   30    48     11  2018        4\n",
       "3 2018-11-30 01:17:05.796     1   30    48     11  2018        4\n",
       "4 2018-11-30 01:20:56.796     1   30    48     11  2018        4"
      ]
     },
     "execution_count": 38,
     "metadata": {},
     "output_type": "execute_result"
    }
   ],
   "source": [
    "time_df = time_data.copy()\n",
    "time_df.set_axis(column_labels, axis=1)\n",
    "time_df.head()"
   ]
  },
  {
   "cell_type": "markdown",
   "metadata": {
    "editable": true
   },
   "source": [
    "#### Insert Records into Time Table\n",
    "Implement the `time_table_insert` query in `sql_queries.py` and run the cell below to insert records for the timestamps in this log file into the `time` table. Remember to run `create_tables.py` before running the cell below to ensure you've created/resetted the `time` table in the sparkify database."
   ]
  },
  {
   "cell_type": "code",
   "execution_count": 39,
   "metadata": {
    "editable": true
   },
   "outputs": [],
   "source": [
    "for i, row in time_df.iterrows():\n",
    "#     print(i)\n",
    "#     print(list(row))\n",
    "    cur.execute(time_table_insert, list(row))\n",
    "    conn.commit()"
   ]
  },
  {
   "cell_type": "markdown",
   "metadata": {
    "editable": true
   },
   "source": [
    "Run `test.ipynb` to see if you've successfully added records to this table."
   ]
  },
  {
   "cell_type": "markdown",
   "metadata": {
    "editable": true
   },
   "source": [
    "## #4: `users` Table\n",
    "#### Extract Data for Users Table\n",
    "- Select columns for user ID, first name, last name, gender and level and set to `user_df`"
   ]
  },
  {
   "cell_type": "code",
   "execution_count": 40,
   "metadata": {
    "editable": true
   },
   "outputs": [],
   "source": [
    "user_df = pd.concat([df['userId'],\n",
    "                     df['firstName'],\n",
    "                     df['lastName'],\n",
    "                     df['gender'], \n",
    "                     df['level']], axis=1)"
   ]
  },
  {
   "cell_type": "markdown",
   "metadata": {
    "editable": true
   },
   "source": [
    "#### Insert Records into Users Table\n",
    "Implement the `user_table_insert` query in `sql_queries.py` and run the cell below to insert records for the users in this log file into the `users` table. Remember to run `create_tables.py` before running the cell below to ensure you've created/resetted the `users` table in the sparkify database."
   ]
  },
  {
   "cell_type": "code",
   "execution_count": 41,
   "metadata": {
    "editable": true
   },
   "outputs": [],
   "source": [
    "for i, row in user_df.iterrows():\n",
    "    cur.execute(user_table_insert, row)\n",
    "    conn.commit()"
   ]
  },
  {
   "cell_type": "markdown",
   "metadata": {
    "editable": true
   },
   "source": [
    "Run `test.ipynb` to see if you've successfully added records to this table."
   ]
  },
  {
   "cell_type": "markdown",
   "metadata": {
    "editable": true
   },
   "source": [
    "## #5: `songplays` Table\n",
    "#### Extract Data and Songplays Table\n",
    "This one is a little more complicated since information from the songs table, artists table, and original log file are all needed for the `songplays` table. Since the log file does not specify an ID for either the song or the artist, you'll need to get the song ID and artist ID by querying the songs and artists tables to find matches based on song title, artist name, and song duration time.\n",
    "- Implement the `song_select` query in `sql_queries.py` to find the song ID and artist ID based on the title, artist name, and duration of a song.\n",
    "- Select the timestamp, user ID, level, song ID, artist ID, session ID, location, and user agent and set to `songplay_data`\n",
    "\n",
    "#### Insert Records into Songplays Table\n",
    "- Implement the `songplay_table_insert` query and run the cell below to insert records for the songplay actions in this log file into the `songplays` table. Remember to run `create_tables.py` before running the cell below to ensure you've created/resetted the `songplays` table in the sparkify database."
   ]
  },
  {
   "cell_type": "code",
   "execution_count": 42,
   "metadata": {
    "editable": true
   },
   "outputs": [
    {
     "name": "stdout",
     "output_type": "stream",
     "text": [
      "SELECT songs.song_id, artists.artist_id FROM songs     JOIN artists ON songs.artist_id = artists.artist_id     WHERE songs.title = Jim Henson's Dead AND artists.name = Stephen Lynch AND songs.duration = 182.85669\n",
      "SELECT songs.song_id, artists.artist_id FROM songs     JOIN artists ON songs.artist_id = artists.artist_id     WHERE songs.title = Shell Shock AND artists.name = Manowar AND songs.duration = 247.562\n",
      "SELECT songs.song_id, artists.artist_id FROM songs     JOIN artists ON songs.artist_id = artists.artist_id     WHERE songs.title = Women Lose Weight (Feat: Slick Rick) AND artists.name = Morcheeba AND songs.duration = 257.41016\n",
      "SELECT songs.song_id, artists.artist_id FROM songs     JOIN artists ON songs.artist_id = artists.artist_id     WHERE songs.title = Won't Go Home Without You AND artists.name = Maroon 5 AND songs.duration = 231.23546\n",
      "SELECT songs.song_id, artists.artist_id FROM songs     JOIN artists ON songs.artist_id = artists.artist_id     WHERE songs.title = Hey_ Soul Sister AND artists.name = Train AND songs.duration = 216.76363\n",
      "SELECT songs.song_id, artists.artist_id FROM songs     JOIN artists ON songs.artist_id = artists.artist_id     WHERE songs.title = I'm In Miami Bitch AND artists.name = LMFAO AND songs.duration = 227.99628\n",
      "SELECT songs.song_id, artists.artist_id FROM songs     JOIN artists ON songs.artist_id = artists.artist_id     WHERE songs.title = Sexy Bitch AND artists.name = DJ Dizzy AND songs.duration = 221.1522\n",
      "SELECT songs.song_id, artists.artist_id FROM songs     JOIN artists ON songs.artist_id = artists.artist_id     WHERE songs.title = The Cure & The Cause (Dennis Ferrer Remix) AND artists.name = Fish Go Deep & Tracey K AND songs.duration = 377.41669\n",
      "SELECT songs.song_id, artists.artist_id FROM songs     JOIN artists ON songs.artist_id = artists.artist_id     WHERE songs.title = Staring At Me AND artists.name = M83 AND songs.duration = 96.1824\n",
      "SELECT songs.song_id, artists.artist_id FROM songs     JOIN artists ON songs.artist_id = artists.artist_id     WHERE songs.title = The Second You Sleep AND artists.name = Saybia AND songs.duration = 257.25342\n",
      "SELECT songs.song_id, artists.artist_id FROM songs     JOIN artists ON songs.artist_id = artists.artist_id     WHERE songs.title = Wide Eyes AND artists.name = Local Natives AND songs.duration = 266.05669\n",
      "SELECT songs.song_id, artists.artist_id FROM songs     JOIN artists ON songs.artist_id = artists.artist_id     WHERE songs.title = La Resistance (Medley) (LP Version) AND artists.name = South Park AND songs.duration = 112.97914\n",
      "SELECT songs.song_id, artists.artist_id FROM songs     JOIN artists ON songs.artist_id = artists.artist_id     WHERE songs.title = Restless AND artists.name = UNKLE Feat. Josh Homme AND songs.duration = 307.19955\n",
      "SELECT songs.song_id, artists.artist_id FROM songs     JOIN artists ON songs.artist_id = artists.artist_id     WHERE songs.title = Noc... AND artists.name = Justyna Steczkowska AND songs.duration = 333.53098\n",
      "SELECT songs.song_id, artists.artist_id FROM songs     JOIN artists ON songs.artist_id = artists.artist_id     WHERE songs.title = Like You AND artists.name = Evanescence AND songs.duration = 256.91383\n",
      "SELECT songs.song_id, artists.artist_id FROM songs     JOIN artists ON songs.artist_id = artists.artist_id     WHERE songs.title = God Put A Smile Upon Your Face AND artists.name = Coldplay AND songs.duration = 297.35138\n",
      "SELECT songs.song_id, artists.artist_id FROM songs     JOIN artists ON songs.artist_id = artists.artist_id     WHERE songs.title = Playboy AND artists.name = Hot Chip AND songs.duration = 333.50485\n",
      "SELECT songs.song_id, artists.artist_id FROM songs     JOIN artists ON songs.artist_id = artists.artist_id     WHERE songs.title = Every Time You Go AND artists.name = Ellie Goulding AND songs.duration = 205.06077\n",
      "SELECT songs.song_id, artists.artist_id FROM songs     JOIN artists ON songs.artist_id = artists.artist_id     WHERE songs.title = Natural Anthem (Album) AND artists.name = Postal Service AND songs.duration = 307.53914\n",
      "SELECT songs.song_id, artists.artist_id FROM songs     JOIN artists ON songs.artist_id = artists.artist_id     WHERE songs.title = Taylor AND artists.name = Jack Johnson AND songs.duration = 240.06485\n",
      "SELECT songs.song_id, artists.artist_id FROM songs     JOIN artists ON songs.artist_id = artists.artist_id     WHERE songs.title = Naked As We Can AND artists.name = Iron And Wine AND songs.duration = 153.05098\n",
      "SELECT songs.song_id, artists.artist_id FROM songs     JOIN artists ON songs.artist_id = artists.artist_id     WHERE songs.title = Fantasy AND artists.name = The xx AND songs.duration = 158.24934\n",
      "SELECT songs.song_id, artists.artist_id FROM songs     JOIN artists ON songs.artist_id = artists.artist_id     WHERE songs.title = Epilogue AND artists.name = The Antlers AND songs.duration = 328.88118\n",
      "SELECT songs.song_id, artists.artist_id FROM songs     JOIN artists ON songs.artist_id = artists.artist_id     WHERE songs.title = Groovin' AND artists.name = Fattburger AND songs.duration = 217.20771\n",
      "SELECT songs.song_id, artists.artist_id FROM songs     JOIN artists ON songs.artist_id = artists.artist_id     WHERE songs.title = Ain't No Way (You Won't Love Me) AND artists.name = Chris Brown AND songs.duration = 203.80689\n",
      "SELECT songs.song_id, artists.artist_id FROM songs     JOIN artists ON songs.artist_id = artists.artist_id     WHERE songs.title = Rome AND artists.name = Phoenix AND songs.duration = 278.07302\n",
      "SELECT songs.song_id, artists.artist_id FROM songs     JOIN artists ON songs.artist_id = artists.artist_id     WHERE songs.title = Highway Through My Home AND artists.name = Jim Lauderdale/Ralph Stanley & The Clinch Mountain Boys AND songs.duration = 127.05914\n",
      "SELECT songs.song_id, artists.artist_id FROM songs     JOIN artists ON songs.artist_id = artists.artist_id     WHERE songs.title = 143 AND artists.name = Musiq AND songs.duration = 297.84771\n",
      "SELECT songs.song_id, artists.artist_id FROM songs     JOIN artists ON songs.artist_id = artists.artist_id     WHERE songs.title = Dreams-Come-True-Girl AND artists.name = Cass McCombs feat. Karen Black AND songs.duration = 322.06322\n",
      "SELECT songs.song_id, artists.artist_id FROM songs     JOIN artists ON songs.artist_id = artists.artist_id     WHERE songs.title = I Don't Feel Like Dancin' AND artists.name = Scissor Sisters AND songs.duration = 352.522\n",
      "SELECT songs.song_id, artists.artist_id FROM songs     JOIN artists ON songs.artist_id = artists.artist_id     WHERE songs.title = Right On Time (Album Version) AND artists.name = O.A.R. AND songs.duration = 315.74159\n",
      "SELECT songs.song_id, artists.artist_id FROM songs     JOIN artists ON songs.artist_id = artists.artist_id     WHERE songs.title = Black Lines AND artists.name = 1 Mile North AND songs.duration = 352.73098\n",
      "SELECT songs.song_id, artists.artist_id FROM songs     JOIN artists ON songs.artist_id = artists.artist_id     WHERE songs.title = Uprising AND artists.name = Muse AND songs.duration = 304.84853\n",
      "SELECT songs.song_id, artists.artist_id FROM songs     JOIN artists ON songs.artist_id = artists.artist_id     WHERE songs.title = Man Makes The Zoo AND artists.name = USS (Ubiquitous Synergy Seeker) AND songs.duration = 307.61751\n",
      "SELECT songs.song_id, artists.artist_id FROM songs     JOIN artists ON songs.artist_id = artists.artist_id     WHERE songs.title = Blacks/Radio AND artists.name = The Psychedelic Furs AND songs.duration = 417.07057\n",
      "SELECT songs.song_id, artists.artist_id FROM songs     JOIN artists ON songs.artist_id = artists.artist_id     WHERE songs.title = Love Dealer (Featuring Justin Timberlake) AND artists.name = EsmÃÂ©e Denters / Justin Timberlake AND songs.duration = 227.52608\n",
      "SELECT songs.song_id, artists.artist_id FROM songs     JOIN artists ON songs.artist_id = artists.artist_id     WHERE songs.title = ReprÃÂ©sente AND artists.name = Alliance Ethnik AND songs.duration = 252.21179\n",
      "SELECT songs.song_id, artists.artist_id FROM songs     JOIN artists ON songs.artist_id = artists.artist_id     WHERE songs.title = Hey_ Soul Sister AND artists.name = Train AND songs.duration = 216.76363\n",
      "SELECT songs.song_id, artists.artist_id FROM songs     JOIN artists ON songs.artist_id = artists.artist_id     WHERE songs.title = Up And Gone AND artists.name = Hoobastank AND songs.duration = 202.57914\n",
      "SELECT songs.song_id, artists.artist_id FROM songs     JOIN artists ON songs.artist_id = artists.artist_id     WHERE songs.title = Te Conoci AND artists.name = Ismael Serrano AND songs.duration = 179.35628\n",
      "SELECT songs.song_id, artists.artist_id FROM songs     JOIN artists ON songs.artist_id = artists.artist_id     WHERE songs.title = Bottle Pop AND artists.name = The Pussycat Dolls / Snoop Dogg AND songs.duration = 210.31138\n",
      "SELECT songs.song_id, artists.artist_id FROM songs     JOIN artists ON songs.artist_id = artists.artist_id     WHERE songs.title = My Love Will Follow You AND artists.name = Dierks Bentley AND songs.duration = 198.63465\n",
      "SELECT songs.song_id, artists.artist_id FROM songs     JOIN artists ON songs.artist_id = artists.artist_id     WHERE songs.title = Found Home AND artists.name = 59 Times the Pain AND songs.duration = 144.95302\n",
      "SELECT songs.song_id, artists.artist_id FROM songs     JOIN artists ON songs.artist_id = artists.artist_id     WHERE songs.title = My December AND artists.name = Linkin Park AND songs.duration = 259.86567\n",
      "SELECT songs.song_id, artists.artist_id FROM songs     JOIN artists ON songs.artist_id = artists.artist_id     WHERE songs.title = The Perfect Kiss AND artists.name = New Order AND songs.duration = 288.05179\n",
      "SELECT songs.song_id, artists.artist_id FROM songs     JOIN artists ON songs.artist_id = artists.artist_id     WHERE songs.title = You're Gonna Make Me Lonesome When You Go AND artists.name = Madeleine Peyroux AND songs.duration = 206.18404\n",
      "SELECT songs.song_id, artists.artist_id FROM songs     JOIN artists ON songs.artist_id = artists.artist_id     WHERE songs.title = Shortie Like Mine AND artists.name = Bow Wow feat. Chris Brown and JohntÃÂ¡ Austin AND songs.duration = 268.06812\n",
      "SELECT songs.song_id, artists.artist_id FROM songs     JOIN artists ON songs.artist_id = artists.artist_id     WHERE songs.title = Domination AND artists.name = Symphony X AND songs.duration = 389.45914\n",
      "SELECT songs.song_id, artists.artist_id FROM songs     JOIN artists ON songs.artist_id = artists.artist_id     WHERE songs.title = Inside My Love (Digitally Remastered 93) AND artists.name = Minnie Riperton AND songs.duration = 238.73261\n",
      "SELECT songs.song_id, artists.artist_id FROM songs     JOIN artists ON songs.artist_id = artists.artist_id     WHERE songs.title = Structure AND artists.name = Custom Blue AND songs.duration = 346.51383\n",
      "SELECT songs.song_id, artists.artist_id FROM songs     JOIN artists ON songs.artist_id = artists.artist_id     WHERE songs.title = Killing In The Name AND artists.name = Rage Against The Machine AND songs.duration = 314.40934\n",
      "SELECT songs.song_id, artists.artist_id FROM songs     JOIN artists ON songs.artist_id = artists.artist_id     WHERE songs.title = Girl You Know It's True AND artists.name = Milli Vanilli AND songs.duration = 197.92934\n",
      "SELECT songs.song_id, artists.artist_id FROM songs     JOIN artists ON songs.artist_id = artists.artist_id     WHERE songs.title = Waterfall (Spirit Of The Rainforest Album Version) AND artists.name = David Arkenstone AND songs.duration = 363.41506\n",
      "SELECT songs.song_id, artists.artist_id FROM songs     JOIN artists ON songs.artist_id = artists.artist_id     WHERE songs.title = Robot Soul (Radio Edit) AND artists.name = Cosmo Vitelli AND songs.duration = 206.05342\n",
      "SELECT songs.song_id, artists.artist_id FROM songs     JOIN artists ON songs.artist_id = artists.artist_id     WHERE songs.title = Blindfold AND artists.name = Morcheeba AND songs.duration = 277.4722\n",
      "SELECT songs.song_id, artists.artist_id FROM songs     JOIN artists ON songs.artist_id = artists.artist_id     WHERE songs.title = I'm Yours (Album Version) AND artists.name = Jason Mraz AND songs.duration = 243.48689\n",
      "SELECT songs.song_id, artists.artist_id FROM songs     JOIN artists ON songs.artist_id = artists.artist_id     WHERE songs.title = Say Hello AND artists.name = Deep Dish AND songs.duration = 274.28526\n",
      "SELECT songs.song_id, artists.artist_id FROM songs     JOIN artists ON songs.artist_id = artists.artist_id     WHERE songs.title = (I Just) Died In Your Arms AND artists.name = Cutting Crew AND songs.duration = 263.07873\n",
      "SELECT songs.song_id, artists.artist_id FROM songs     JOIN artists ON songs.artist_id = artists.artist_id     WHERE songs.title = Sweet Jane AND artists.name = The Velvet Underground AND songs.duration = 240.66567\n",
      "SELECT songs.song_id, artists.artist_id FROM songs     JOIN artists ON songs.artist_id = artists.artist_id     WHERE songs.title = Gears AND artists.name = Future Rock AND songs.duration = 239.90812\n",
      "SELECT songs.song_id, artists.artist_id FROM songs     JOIN artists ON songs.artist_id = artists.artist_id     WHERE songs.title = Seven Nation Army (Album Version) AND artists.name = The White Stripes AND songs.duration = 231.81016\n",
      "SELECT songs.song_id, artists.artist_id FROM songs     JOIN artists ON songs.artist_id = artists.artist_id     WHERE songs.title = Fix You AND artists.name = Coldplay AND songs.duration = 294.1122\n",
      "SELECT songs.song_id, artists.artist_id FROM songs     JOIN artists ON songs.artist_id = artists.artist_id     WHERE songs.title = It Could Be Sweet AND artists.name = Portishead AND songs.duration = 259.99628\n",
      "SELECT songs.song_id, artists.artist_id FROM songs     JOIN artists ON songs.artist_id = artists.artist_id     WHERE songs.title = If This Was The Last Song AND artists.name = Thelma Houston AND songs.duration = 196.51873\n",
      "SELECT songs.song_id, artists.artist_id FROM songs     JOIN artists ON songs.artist_id = artists.artist_id     WHERE songs.title = Poppiholla AND artists.name = Chicane AND songs.duration = 223.92118\n",
      "SELECT songs.song_id, artists.artist_id FROM songs     JOIN artists ON songs.artist_id = artists.artist_id     WHERE songs.title = The Unforgiven III AND artists.name = Metallica AND songs.duration = 466.54649\n",
      "SELECT songs.song_id, artists.artist_id FROM songs     JOIN artists ON songs.artist_id = artists.artist_id     WHERE songs.title = Apresurate AND artists.name = Jennifer Lopez AND songs.duration = 301.34812\n",
      "SELECT songs.song_id, artists.artist_id FROM songs     JOIN artists ON songs.artist_id = artists.artist_id     WHERE songs.title = There Is AND artists.name = Box Car Racer AND songs.duration = 196.93669\n",
      "SELECT songs.song_id, artists.artist_id FROM songs     JOIN artists ON songs.artist_id = artists.artist_id     WHERE songs.title = Would That Make U Love Me AND artists.name = Robin Thicke AND songs.duration = 216.68526\n",
      "SELECT songs.song_id, artists.artist_id FROM songs     JOIN artists ON songs.artist_id = artists.artist_id     WHERE songs.title = Screaming Infidelities AND artists.name = Dashboard Confessional AND songs.duration = 226.29832\n",
      "SELECT songs.song_id, artists.artist_id FROM songs     JOIN artists ON songs.artist_id = artists.artist_id     WHERE songs.title = Big Idea AND artists.name = Radney Foster AND songs.duration = 205.84444\n",
      "SELECT songs.song_id, artists.artist_id FROM songs     JOIN artists ON songs.artist_id = artists.artist_id     WHERE songs.title = Bulletproof AND artists.name = La Roux AND songs.duration = 205.60934\n",
      "SELECT songs.song_id, artists.artist_id FROM songs     JOIN artists ON songs.artist_id = artists.artist_id     WHERE songs.title = The Tune AND artists.name = Wax Tailor AND songs.duration = 177.68444\n",
      "SELECT songs.song_id, artists.artist_id FROM songs     JOIN artists ON songs.artist_id = artists.artist_id     WHERE songs.title = Trani AND artists.name = Kings Of Leon AND songs.duration = 300.56444\n",
      "SELECT songs.song_id, artists.artist_id FROM songs     JOIN artists ON songs.artist_id = artists.artist_id     WHERE songs.title = Girl Money AND artists.name = Kix AND songs.duration = 246.25587\n",
      "SELECT songs.song_id, artists.artist_id FROM songs     JOIN artists ON songs.artist_id = artists.artist_id     WHERE songs.title = Chloe Dancer/Crown Of Thorns AND artists.name = Mother Love Bone AND songs.duration = 495.72526\n",
      "SELECT songs.song_id, artists.artist_id FROM songs     JOIN artists ON songs.artist_id = artists.artist_id     WHERE songs.title = The Bachelor and the Bride AND artists.name = The Decemberists AND songs.duration = 252.81261\n",
      "SELECT songs.song_id, artists.artist_id FROM songs     JOIN artists ON songs.artist_id = artists.artist_id     WHERE songs.title = M AND artists.name = Telefon Tel Aviv AND songs.duration = 222.09261\n",
      "SELECT songs.song_id, artists.artist_id FROM songs     JOIN artists ON songs.artist_id = artists.artist_id     WHERE songs.title = Nothin' On You [feat. Bruno Mars] (Album Version) AND artists.name = B.o.B AND songs.duration = 269.63546\n",
      "SELECT songs.song_id, artists.artist_id FROM songs     JOIN artists ON songs.artist_id = artists.artist_id     WHERE songs.title = You Sent Me Flying / Cherry AND artists.name = Amy Winehouse AND songs.duration = 409.96526\n",
      "SELECT songs.song_id, artists.artist_id FROM songs     JOIN artists ON songs.artist_id = artists.artist_id     WHERE songs.title = Faithless AND artists.name = BEFORE THE DAWN AND songs.duration = 195.65669\n",
      "SELECT songs.song_id, artists.artist_id FROM songs     JOIN artists ON songs.artist_id = artists.artist_id     WHERE songs.title = You Only Live Once AND artists.name = The Strokes AND songs.duration = 187.34975\n",
      "SELECT songs.song_id, artists.artist_id FROM songs     JOIN artists ON songs.artist_id = artists.artist_id     WHERE songs.title = Tempting Time AND artists.name = Animals As Leaders AND songs.duration = 323.83955\n",
      "SELECT songs.song_id, artists.artist_id FROM songs     JOIN artists ON songs.artist_id = artists.artist_id     WHERE songs.title = Flowers In December AND artists.name = Mazzy Star AND songs.duration = 297.9522\n",
      "SELECT songs.song_id, artists.artist_id FROM songs     JOIN artists ON songs.artist_id = artists.artist_id     WHERE songs.title = Take It Back AND artists.name = Cream AND songs.duration = 185.44281\n",
      "SELECT songs.song_id, artists.artist_id FROM songs     JOIN artists ON songs.artist_id = artists.artist_id     WHERE songs.title = Behind Two Hills&A Swimming Pool AND artists.name = MÃÂºm AND songs.duration = 68.67546\n",
      "SELECT songs.song_id, artists.artist_id FROM songs     JOIN artists ON songs.artist_id = artists.artist_id     WHERE songs.title = My First Kiss (Feat. Ke$ha) [Album Version] AND artists.name = 3OH!3 AND songs.duration = 192.522\n",
      "SELECT songs.song_id, artists.artist_id FROM songs     JOIN artists ON songs.artist_id = artists.artist_id     WHERE songs.title = Straight Outta Compton (Extended Mix) (Edit) (Explicit) AND artists.name = N.W.A. AND songs.duration = 266.26567\n",
      "SELECT songs.song_id, artists.artist_id FROM songs     JOIN artists ON songs.artist_id = artists.artist_id     WHERE songs.title = Goin' Home AND artists.name = Dan Auerbach AND songs.duration = 296.95955\n",
      "SELECT songs.song_id, artists.artist_id FROM songs     JOIN artists ON songs.artist_id = artists.artist_id     WHERE songs.title = Sick AND artists.name = Lagwagon AND songs.duration = 173.322\n",
      "SELECT songs.song_id, artists.artist_id FROM songs     JOIN artists ON songs.artist_id = artists.artist_id     WHERE songs.title = Fix You AND artists.name = Coldplay AND songs.duration = 294.1122\n",
      "SELECT songs.song_id, artists.artist_id FROM songs     JOIN artists ON songs.artist_id = artists.artist_id     WHERE songs.title = Half Of My Heart AND artists.name = John Mayer AND songs.duration = 250.38322\n",
      "SELECT songs.song_id, artists.artist_id FROM songs     JOIN artists ON songs.artist_id = artists.artist_id     WHERE songs.title = Revelry AND artists.name = Kings Of Leon AND songs.duration = 201.79546\n",
      "SELECT songs.song_id, artists.artist_id FROM songs     JOIN artists ON songs.artist_id = artists.artist_id     WHERE songs.title = World Coming Down AND artists.name = Ashbury Heights AND songs.duration = 198.60853\n",
      "SELECT songs.song_id, artists.artist_id FROM songs     JOIN artists ON songs.artist_id = artists.artist_id     WHERE songs.title = Fire AND artists.name = Scooter AND songs.duration = 213.02812\n",
      "SELECT songs.song_id, artists.artist_id FROM songs     JOIN artists ON songs.artist_id = artists.artist_id     WHERE songs.title = Shoot Me Down AND artists.name = Boy Kill Boy AND songs.duration = 220.47302\n",
      "SELECT songs.song_id, artists.artist_id FROM songs     JOIN artists ON songs.artist_id = artists.artist_id     WHERE songs.title = Juice (Know The Ledge) AND artists.name = Eric B. & Rakim AND songs.duration = 241.60608\n",
      "SELECT songs.song_id, artists.artist_id FROM songs     JOIN artists ON songs.artist_id = artists.artist_id     WHERE songs.title = Hymne A L'Amour (Album Version) AND artists.name = Josh Groban AND songs.duration = 243.40853\n",
      "SELECT songs.song_id, artists.artist_id FROM songs     JOIN artists ON songs.artist_id = artists.artist_id     WHERE songs.title = We're Only Gonna Die (Album Version) AND artists.name = Bad Religion AND songs.duration = 131.86567\n",
      "SELECT songs.song_id, artists.artist_id FROM songs     JOIN artists ON songs.artist_id = artists.artist_id     WHERE songs.title = Next Hype AND artists.name = Tempa T AND songs.duration = 236.35546\n",
      "SELECT songs.song_id, artists.artist_id FROM songs     JOIN artists ON songs.artist_id = artists.artist_id     WHERE songs.title = Fireflies AND artists.name = Charttraxx Karaoke AND songs.duration = 225.17506\n",
      "SELECT songs.song_id, artists.artist_id FROM songs     JOIN artists ON songs.artist_id = artists.artist_id     WHERE songs.title = Hotel California AND artists.name = Eagles AND songs.duration = 372.29669\n",
      "SELECT songs.song_id, artists.artist_id FROM songs     JOIN artists ON songs.artist_id = artists.artist_id     WHERE songs.title = Little Wing AND artists.name = Eric Clapton AND songs.duration = 409.57342\n",
      "SELECT songs.song_id, artists.artist_id FROM songs     JOIN artists ON songs.artist_id = artists.artist_id     WHERE songs.title = Smothered (Album Version) AND artists.name = Spineshank AND songs.duration = 187.6371\n",
      "SELECT songs.song_id, artists.artist_id FROM songs     JOIN artists ON songs.artist_id = artists.artist_id     WHERE songs.title = Try Your Best AND artists.name = Kaiser Chiefs AND songs.duration = 221.07383\n",
      "SELECT songs.song_id, artists.artist_id FROM songs     JOIN artists ON songs.artist_id = artists.artist_id     WHERE songs.title = Le Courage Des Oiseaux AND artists.name = Dominique A AND songs.duration = 153.20771\n",
      "SELECT songs.song_id, artists.artist_id FROM songs     JOIN artists ON songs.artist_id = artists.artist_id     WHERE songs.title = Lips Like Morphine (Album Version) AND artists.name = Kill Hannah AND songs.duration = 224.49587\n",
      "SELECT songs.song_id, artists.artist_id FROM songs     JOIN artists ON songs.artist_id = artists.artist_id     WHERE songs.title = Kiedys zrozumiesz AND artists.name = I:gor AND songs.duration = 190.27546\n",
      "SELECT songs.song_id, artists.artist_id FROM songs     JOIN artists ON songs.artist_id = artists.artist_id     WHERE songs.title = Fallin' Apart AND artists.name = The All-American Rejects AND songs.duration = 206.96771\n",
      "SELECT songs.song_id, artists.artist_id FROM songs     JOIN artists ON songs.artist_id = artists.artist_id     WHERE songs.title = Don't Cry (Original) AND artists.name = Guns N' Roses AND songs.duration = 284.05506\n",
      "SELECT songs.song_id, artists.artist_id FROM songs     JOIN artists ON songs.artist_id = artists.artist_id     WHERE songs.title = Transparency AND artists.name = White Denim AND songs.duration = 148.55791\n",
      "SELECT songs.song_id, artists.artist_id FROM songs     JOIN artists ON songs.artist_id = artists.artist_id     WHERE songs.title = La Suerte De Mi Vida AND artists.name = El Canto del Loco AND songs.duration = 226.0371\n",
      "SELECT songs.song_id, artists.artist_id FROM songs     JOIN artists ON songs.artist_id = artists.artist_id     WHERE songs.title = Redwing AND artists.name = Grinderswitch AND songs.duration = 268.2771\n",
      "SELECT songs.song_id, artists.artist_id FROM songs     JOIN artists ON songs.artist_id = artists.artist_id     WHERE songs.title = Starfish-On-The-Toast (2008 Digital Remaster) AND artists.name = Donovan AND songs.duration = 169.22077\n",
      "SELECT songs.song_id, artists.artist_id FROM songs     JOIN artists ON songs.artist_id = artists.artist_id     WHERE songs.title = Illusions AND artists.name = As I Lay Dying AND songs.duration = 348.1073\n",
      "SELECT songs.song_id, artists.artist_id FROM songs     JOIN artists ON songs.artist_id = artists.artist_id     WHERE songs.title = Bright Lights (Remastered Version) AND artists.name = matchbox twenty AND songs.duration = 241.34485\n",
      "SELECT songs.song_id, artists.artist_id FROM songs     JOIN artists ON songs.artist_id = artists.artist_id     WHERE songs.title = Field Goal AND artists.name = Kinky AND songs.duration = 105.32526\n",
      "SELECT songs.song_id, artists.artist_id FROM songs     JOIN artists ON songs.artist_id = artists.artist_id     WHERE songs.title = Nah! AND artists.name = Shania Twain AND songs.duration = 250.51383\n",
      "SELECT songs.song_id, artists.artist_id FROM songs     JOIN artists ON songs.artist_id = artists.artist_id     WHERE songs.title = By The Way AND artists.name = Hinder AND songs.duration = 231.73179\n",
      "SELECT songs.song_id, artists.artist_id FROM songs     JOIN artists ON songs.artist_id = artists.artist_id     WHERE songs.title = Keep On Running AND artists.name = The Spencer Davis Group AND songs.duration = 165.27628\n",
      "SELECT songs.song_id, artists.artist_id FROM songs     JOIN artists ON songs.artist_id = artists.artist_id     WHERE songs.title = I Dont Wanna Wait AND artists.name = SOJA AND songs.duration = 355.89179\n",
      "SELECT songs.song_id, artists.artist_id FROM songs     JOIN artists ON songs.artist_id = artists.artist_id     WHERE songs.title = Echonomix AND artists.name = Infected Mushroom AND songs.duration = 463.72526\n",
      "SELECT songs.song_id, artists.artist_id FROM songs     JOIN artists ON songs.artist_id = artists.artist_id     WHERE songs.title = One By One AND artists.name = Unkle Bob AND songs.duration = 160.10404\n",
      "SELECT songs.song_id, artists.artist_id FROM songs     JOIN artists ON songs.artist_id = artists.artist_id     WHERE songs.title = Sin Miedo a Nada (con Amaia Montero) AND artists.name = Alex Ubago AND songs.duration = 313.28608\n",
      "SELECT songs.song_id, artists.artist_id FROM songs     JOIN artists ON songs.artist_id = artists.artist_id     WHERE songs.title = Bonnie Brae AND artists.name = The Twilight Singers AND songs.duration = 286.53669\n",
      "SELECT songs.song_id, artists.artist_id FROM songs     JOIN artists ON songs.artist_id = artists.artist_id     WHERE songs.title = War AND artists.name = Chikita Violenta AND songs.duration = 255.92118\n",
      "SELECT songs.song_id, artists.artist_id FROM songs     JOIN artists ON songs.artist_id = artists.artist_id     WHERE songs.title = Sad Lisa AND artists.name = Cat Stevens AND songs.duration = 225.17506\n",
      "SELECT songs.song_id, artists.artist_id FROM songs     JOIN artists ON songs.artist_id = artists.artist_id     WHERE songs.title = The House That Nat Built (Album Version) AND artists.name = Kenny Garrett AND songs.duration = 265.19465\n",
      "SELECT songs.song_id, artists.artist_id FROM songs     JOIN artists ON songs.artist_id = artists.artist_id     WHERE songs.title = Jealous Minds Think Alike AND artists.name = You Me At Six AND songs.duration = 216.68526\n",
      "SELECT songs.song_id, artists.artist_id FROM songs     JOIN artists ON songs.artist_id = artists.artist_id     WHERE songs.title = My Mother's Eyes AND artists.name = Nellie Lutcher AND songs.duration = 195.70893\n",
      "SELECT songs.song_id, artists.artist_id FROM songs     JOIN artists ON songs.artist_id = artists.artist_id     WHERE songs.title = Make Her Say AND artists.name = Kid Cudi / Kanye West / Common AND songs.duration = 237.76608\n",
      "SELECT songs.song_id, artists.artist_id FROM songs     JOIN artists ON songs.artist_id = artists.artist_id     WHERE songs.title = Viaje Sin Rumbo (2004 Digital Remaster) AND artists.name = Tiro De Gracia AND songs.duration = 214.83057\n",
      "SELECT songs.song_id, artists.artist_id FROM songs     JOIN artists ON songs.artist_id = artists.artist_id     WHERE songs.title = Dreamdancer AND artists.name = polarkreis 18 AND songs.duration = 265.29914\n",
      "SELECT songs.song_id, artists.artist_id FROM songs     JOIN artists ON songs.artist_id = artists.artist_id     WHERE songs.title = The Queen of Nothing AND artists.name = + / - {Plus/Minus} AND songs.duration = 318.98077\n",
      "SELECT songs.song_id, artists.artist_id FROM songs     JOIN artists ON songs.artist_id = artists.artist_id     WHERE songs.title = Riot In Cell Block Number Nine AND artists.name = Dr Feelgood AND songs.duration = 216.13669\n",
      "SELECT songs.song_id, artists.artist_id FROM songs     JOIN artists ON songs.artist_id = artists.artist_id     WHERE songs.title = Sehr kosmisch AND artists.name = Harmonia AND songs.duration = 655.77751\n",
      "SELECT songs.song_id, artists.artist_id FROM songs     JOIN artists ON songs.artist_id = artists.artist_id     WHERE songs.title = Everything You Love (Album Version) AND artists.name = Chimaira AND songs.duration = 377.36444\n",
      "SELECT songs.song_id, artists.artist_id FROM songs     JOIN artists ON songs.artist_id = artists.artist_id     WHERE songs.title = Someone Else's Life AND artists.name = Joshua Radin AND songs.duration = 211.27791\n",
      "SELECT songs.song_id, artists.artist_id FROM songs     JOIN artists ON songs.artist_id = artists.artist_id     WHERE songs.title = Godine prolaze AND artists.name = Bajaga & Instruktori AND songs.duration = 254.95465\n",
      "SELECT songs.song_id, artists.artist_id FROM songs     JOIN artists ON songs.artist_id = artists.artist_id     WHERE songs.title = Private Affair (Amended Album Version) AND artists.name = The Virgins AND songs.duration = 169.37751\n",
      "SELECT songs.song_id, artists.artist_id FROM songs     JOIN artists ON songs.artist_id = artists.artist_id     WHERE songs.title = Ginko Biloba AND artists.name = SA Rawls / Still Flyin' / Still Flyin' AND songs.duration = 183.09179\n",
      "SELECT songs.song_id, artists.artist_id FROM songs     JOIN artists ON songs.artist_id = artists.artist_id     WHERE songs.title = Three Day Weekend AND artists.name = Grown Ups AND songs.duration = 233.42975\n",
      "SELECT songs.song_id, artists.artist_id FROM songs     JOIN artists ON songs.artist_id = artists.artist_id     WHERE songs.title = Meen Dah Elly Nseik AND artists.name = Nancy Ajram AND songs.duration = 221.67465\n",
      "SELECT songs.song_id, artists.artist_id FROM songs     JOIN artists ON songs.artist_id = artists.artist_id     WHERE songs.title = Boot On The Seat AND artists.name = The Donkeys AND songs.duration = 272.19546\n",
      "SELECT songs.song_id, artists.artist_id FROM songs     JOIN artists ON songs.artist_id = artists.artist_id     WHERE songs.title = FaFaFa (Radio Edit) AND artists.name = Datarock AND songs.duration = 228.49261\n",
      "SELECT songs.song_id, artists.artist_id FROM songs     JOIN artists ON songs.artist_id = artists.artist_id     WHERE songs.title = Human After All AND artists.name = Daft Punk AND songs.duration = 319.42485\n",
      "SELECT songs.song_id, artists.artist_id FROM songs     JOIN artists ON songs.artist_id = artists.artist_id     WHERE songs.title = Somebody To Love AND artists.name = Justin Bieber AND songs.duration = 220.89098\n",
      "SELECT songs.song_id, artists.artist_id FROM songs     JOIN artists ON songs.artist_id = artists.artist_id     WHERE songs.title = Real Love AND artists.name = Beach House AND songs.duration = 320.44363\n",
      "SELECT songs.song_id, artists.artist_id FROM songs     JOIN artists ON songs.artist_id = artists.artist_id     WHERE songs.title = Subterranean Homesick Blues (Album Version) AND artists.name = The Walkmen AND songs.duration = 199.36608\n",
      "SELECT songs.song_id, artists.artist_id FROM songs     JOIN artists ON songs.artist_id = artists.artist_id     WHERE songs.title = Can't Break Thru AND artists.name = Busted / Charlie Simpson / Mattie Jay / James Bourne AND songs.duration = 252.83873\n",
      "SELECT songs.song_id, artists.artist_id FROM songs     JOIN artists ON songs.artist_id = artists.artist_id     WHERE songs.title = Get Me Bodied AND artists.name = BeyoncÃÂ© AND songs.duration = 374.59546\n",
      "SELECT songs.song_id, artists.artist_id FROM songs     JOIN artists ON songs.artist_id = artists.artist_id     WHERE songs.title = Maybe AND artists.name = Sick Puppies AND songs.duration = 209.44934\n",
      "SELECT songs.song_id, artists.artist_id FROM songs     JOIN artists ON songs.artist_id = artists.artist_id     WHERE songs.title = Walk To The Water AND artists.name = U2 AND songs.duration = 289.2273\n",
      "SELECT songs.song_id, artists.artist_id FROM songs     JOIN artists ON songs.artist_id = artists.artist_id     WHERE songs.title = I CAN'T GET STARTED AND artists.name = Ron Carter AND songs.duration = 497.13587\n",
      "SELECT songs.song_id, artists.artist_id FROM songs     JOIN artists ON songs.artist_id = artists.artist_id     WHERE songs.title = Breath After Breath AND artists.name = Duran Duran AND songs.duration = 297.63873\n",
      "SELECT songs.song_id, artists.artist_id FROM songs     JOIN artists ON songs.artist_id = artists.artist_id     WHERE songs.title = Head Over Heels AND artists.name = Tears For Fears AND songs.duration = 255.34649\n",
      "SELECT songs.song_id, artists.artist_id FROM songs     JOIN artists ON songs.artist_id = artists.artist_id     WHERE songs.title = Lonely As You AND artists.name = Foo Fighters AND songs.duration = 277.10649\n",
      "SELECT songs.song_id, artists.artist_id FROM songs     JOIN artists ON songs.artist_id = artists.artist_id     WHERE songs.title = One Year_ Six Months AND artists.name = Yellowcard AND songs.duration = 208.79628\n",
      "SELECT songs.song_id, artists.artist_id FROM songs     JOIN artists ON songs.artist_id = artists.artist_id     WHERE songs.title = Against The Wall AND artists.name = Big Tymers AND songs.duration = 252.05506\n",
      "SELECT songs.song_id, artists.artist_id FROM songs     JOIN artists ON songs.artist_id = artists.artist_id     WHERE songs.title = Knocking On Forbidden Doors AND artists.name = Enigma AND songs.duration = 262.71302\n",
      "SELECT songs.song_id, artists.artist_id FROM songs     JOIN artists ON songs.artist_id = artists.artist_id     WHERE songs.title = Hey Hey AND artists.name = Dennis Ferrer AND songs.duration = 209.162\n",
      "SELECT songs.song_id, artists.artist_id FROM songs     JOIN artists ON songs.artist_id = artists.artist_id     WHERE songs.title = Somebody To Love AND artists.name = Justin Bieber AND songs.duration = 220.89098\n",
      "SELECT songs.song_id, artists.artist_id FROM songs     JOIN artists ON songs.artist_id = artists.artist_id     WHERE songs.title = Genom tunna tyger AND artists.name = Markus KrunegÃÂ¥rd AND songs.duration = 185.5473\n",
      "SELECT songs.song_id, artists.artist_id FROM songs     JOIN artists ON songs.artist_id = artists.artist_id     WHERE songs.title = The Little Things Give You Away [Live At Milton Keynes] AND artists.name = Linkin Park AND songs.duration = 439.562\n",
      "SELECT songs.song_id, artists.artist_id FROM songs     JOIN artists ON songs.artist_id = artists.artist_id     WHERE songs.title = Devil May Care AND artists.name = Jamie Cullum AND songs.duration = 204.25098\n",
      "SELECT songs.song_id, artists.artist_id FROM songs     JOIN artists ON songs.artist_id = artists.artist_id     WHERE songs.title = Tell Me I'm A Wreck AND artists.name = Every Avenue AND songs.duration = 219.95057\n",
      "SELECT songs.song_id, artists.artist_id FROM songs     JOIN artists ON songs.artist_id = artists.artist_id     WHERE songs.title = Constellations AND artists.name = Jack Johnson AND songs.duration = 201.63873\n",
      "SELECT songs.song_id, artists.artist_id FROM songs     JOIN artists ON songs.artist_id = artists.artist_id     WHERE songs.title = Vuelve AND artists.name = Shakira AND songs.duration = 233.87383\n",
      "SELECT songs.song_id, artists.artist_id FROM songs     JOIN artists ON songs.artist_id = artists.artist_id     WHERE songs.title = Give Me Anything AND artists.name = The Maine AND songs.duration = 189.59628\n",
      "SELECT songs.song_id, artists.artist_id FROM songs     JOIN artists ON songs.artist_id = artists.artist_id     WHERE songs.title = Worm Infested AND artists.name = Cannibal Corpse AND songs.duration = 209.00526\n",
      "SELECT songs.song_id, artists.artist_id FROM songs     JOIN artists ON songs.artist_id = artists.artist_id     WHERE songs.title = Headlights Look Like Diamonds AND artists.name = Arcade Fire AND songs.duration = 267.80689\n",
      "SELECT songs.song_id, artists.artist_id FROM songs     JOIN artists ON songs.artist_id = artists.artist_id     WHERE songs.title = Hands Up AND artists.name = Black Eyed Peas AND songs.duration = 215.7971\n",
      "SELECT songs.song_id, artists.artist_id FROM songs     JOIN artists ON songs.artist_id = artists.artist_id     WHERE songs.title = Sweet And Wild AND artists.name = Radney Foster AND songs.duration = 288.96608\n",
      "SELECT songs.song_id, artists.artist_id FROM songs     JOIN artists ON songs.artist_id = artists.artist_id     WHERE songs.title = Satellite Mind AND artists.name = Metric AND songs.duration = 222.85016\n",
      "SELECT songs.song_id, artists.artist_id FROM songs     JOIN artists ON songs.artist_id = artists.artist_id     WHERE songs.title = You're The One AND artists.name = Dwight Yoakam AND songs.duration = 239.3073\n",
      "SELECT songs.song_id, artists.artist_id FROM songs     JOIN artists ON songs.artist_id = artists.artist_id     WHERE songs.title = Did You Get My Message? (Live From Montalvo) AND artists.name = Jason Mraz AND songs.duration = 266.63138\n",
      "SELECT songs.song_id, artists.artist_id FROM songs     JOIN artists ON songs.artist_id = artists.artist_id     WHERE songs.title = N A Whitemanzeyez AND artists.name = Kutt Calhoun AND songs.duration = 307.51302\n",
      "SELECT songs.song_id, artists.artist_id FROM songs     JOIN artists ON songs.artist_id = artists.artist_id     WHERE songs.title = Karma Police AND artists.name = Radiohead AND songs.duration = 261.45914\n",
      "SELECT songs.song_id, artists.artist_id FROM songs     JOIN artists ON songs.artist_id = artists.artist_id     WHERE songs.title = Puto AND artists.name = Molotov AND songs.duration = 127.37261\n",
      "SELECT songs.song_id, artists.artist_id FROM songs     JOIN artists ON songs.artist_id = artists.artist_id     WHERE songs.title = Killing Lies AND artists.name = The Strokes AND songs.duration = 230.1122\n",
      "SELECT songs.song_id, artists.artist_id FROM songs     JOIN artists ON songs.artist_id = artists.artist_id     WHERE songs.title = Hallelujah AND artists.name = Rufus Wainwright AND songs.duration = 249.62567\n",
      "SELECT songs.song_id, artists.artist_id FROM songs     JOIN artists ON songs.artist_id = artists.artist_id     WHERE songs.title = Ghosts 'n' Stuff (Original Instrumental Mix) AND artists.name = Deadmau5 AND songs.duration = 374.20363\n",
      "SELECT songs.song_id, artists.artist_id FROM songs     JOIN artists ON songs.artist_id = artists.artist_id     WHERE songs.title = You're The Voice AND artists.name = John Farnham AND songs.duration = 300.72118\n",
      "SELECT songs.song_id, artists.artist_id FROM songs     JOIN artists ON songs.artist_id = artists.artist_id     WHERE songs.title = Inside Of You AND artists.name = Infant Sorrow AND songs.duration = 170.16118\n",
      "SELECT songs.song_id, artists.artist_id FROM songs     JOIN artists ON songs.artist_id = artists.artist_id     WHERE songs.title = Clean Up Woman (Single/LP Version) AND artists.name = Betty Wright AND songs.duration = 164.85832\n",
      "SELECT songs.song_id, artists.artist_id FROM songs     JOIN artists ON songs.artist_id = artists.artist_id     WHERE songs.title = Tranen Gelachen AND artists.name = Guus Meeuwis AND songs.duration = 198.42567\n",
      "SELECT songs.song_id, artists.artist_id FROM songs     JOIN artists ON songs.artist_id = artists.artist_id     WHERE songs.title = The Small Print AND artists.name = Muse AND songs.duration = 209.00526\n",
      "SELECT songs.song_id, artists.artist_id FROM songs     JOIN artists ON songs.artist_id = artists.artist_id     WHERE songs.title = A QuÃÂ© Niegas El Delirio (MalagueÃÂ±a) (Live) AND artists.name = Estrella Morente AND songs.duration = 135.70567\n",
      "SELECT songs.song_id, artists.artist_id FROM songs     JOIN artists ON songs.artist_id = artists.artist_id     WHERE songs.title = It's My Life (Radio Edit) AND artists.name = Dr. Alban AND songs.duration = 240.14322\n",
      "SELECT songs.song_id, artists.artist_id FROM songs     JOIN artists ON songs.artist_id = artists.artist_id     WHERE songs.title = Sit Down. Stand Up AND artists.name = Radiohead AND songs.duration = 260.0224\n",
      "SELECT songs.song_id, artists.artist_id FROM songs     JOIN artists ON songs.artist_id = artists.artist_id     WHERE songs.title = Purple Weed AND artists.name = Mondo Marcio AND songs.duration = 263.60118\n",
      "SELECT songs.song_id, artists.artist_id FROM songs     JOIN artists ON songs.artist_id = artists.artist_id     WHERE songs.title = Someone Else's Arms AND artists.name = Mae AND songs.duration = 309.15873\n",
      "SELECT songs.song_id, artists.artist_id FROM songs     JOIN artists ON songs.artist_id = artists.artist_id     WHERE songs.title = The Future Ain't What It Used To Be AND artists.name = Meat Loaf / Jennifer Hudson AND songs.duration = 474.01751\n",
      "SELECT songs.song_id, artists.artist_id FROM songs     JOIN artists ON songs.artist_id = artists.artist_id     WHERE songs.title = A-Punk (Album) AND artists.name = Vampire Weekend AND songs.duration = 137.82159\n",
      "SELECT songs.song_id, artists.artist_id FROM songs     JOIN artists ON songs.artist_id = artists.artist_id     WHERE songs.title = Time To Pretend AND artists.name = MGMT AND songs.duration = 264.17587\n",
      "SELECT songs.song_id, artists.artist_id FROM songs     JOIN artists ON songs.artist_id = artists.artist_id     WHERE songs.title = Luna y Sol AND artists.name = Federico Aubele AND songs.duration = 213.65506\n",
      "SELECT songs.song_id, artists.artist_id FROM songs     JOIN artists ON songs.artist_id = artists.artist_id     WHERE songs.title = Touch My Horn AND artists.name = Jesse Rose AND songs.duration = 313.15546\n",
      "SELECT songs.song_id, artists.artist_id FROM songs     JOIN artists ON songs.artist_id = artists.artist_id     WHERE songs.title = Eternity AND artists.name = Orion AND songs.duration = 292.70159\n",
      "SELECT songs.song_id, artists.artist_id FROM songs     JOIN artists ON songs.artist_id = artists.artist_id     WHERE songs.title = Dyed in the Wool (Album Version) AND artists.name = Circa Survive AND songs.duration = 298.70975\n",
      "SELECT songs.song_id, artists.artist_id FROM songs     JOIN artists ON songs.artist_id = artists.artist_id     WHERE songs.title = Wretchrospective (feat. Vis) AND artists.name = Wretch 32_ Vis AND songs.duration = 243.35628\n",
      "SELECT songs.song_id, artists.artist_id FROM songs     JOIN artists ON songs.artist_id = artists.artist_id     WHERE songs.title = Simple AND artists.name = Simian Mobile Disco AND songs.duration = 354.61179\n",
      "SELECT songs.song_id, artists.artist_id FROM songs     JOIN artists ON songs.artist_id = artists.artist_id     WHERE songs.title = Riecht wie Teen Spirit (Smells Like Teen Spirit) AND artists.name = ErdmÃÂ¶bel AND songs.duration = 289.25342\n",
      "SELECT songs.song_id, artists.artist_id FROM songs     JOIN artists ON songs.artist_id = artists.artist_id     WHERE songs.title = Adrenalin AND artists.name = Eisbrecher AND songs.duration = 241.89342\n",
      "SELECT songs.song_id, artists.artist_id FROM songs     JOIN artists ON songs.artist_id = artists.artist_id     WHERE songs.title = Bread & Water AND artists.name = Ryan Bingham AND songs.duration = 247.30077\n",
      "SELECT songs.song_id, artists.artist_id FROM songs     JOIN artists ON songs.artist_id = artists.artist_id     WHERE songs.title = VooDoo AND artists.name = Ashanti AND songs.duration = 282.46159\n",
      "SELECT songs.song_id, artists.artist_id FROM songs     JOIN artists ON songs.artist_id = artists.artist_id     WHERE songs.title = Horn Concerto No. 4 in E flat K495: II. Romance (Andante cantabile) AND artists.name = Barry Tuckwell/Academy of St Martin-in-the-Fields/Sir Neville Marriner AND songs.duration = 277.15873\n",
      "SELECT songs.song_id, artists.artist_id FROM songs     JOIN artists ON songs.artist_id = artists.artist_id     WHERE songs.title = Frankie's Office AND artists.name = Clint Eastwood AND songs.duration = 65.25342\n",
      "SELECT songs.song_id, artists.artist_id FROM songs     JOIN artists ON songs.artist_id = artists.artist_id     WHERE songs.title = Fireflies AND artists.name = Charttraxx Karaoke AND songs.duration = 225.17506\n",
      "SELECT songs.song_id, artists.artist_id FROM songs     JOIN artists ON songs.artist_id = artists.artist_id     WHERE songs.title = Summer Breeze AND artists.name = Jason Mraz AND songs.duration = 264.69832\n",
      "SELECT songs.song_id, artists.artist_id FROM songs     JOIN artists ON songs.artist_id = artists.artist_id     WHERE songs.title = Love Shack AND artists.name = The B-52's AND songs.duration = 321.54077\n",
      "SELECT songs.song_id, artists.artist_id FROM songs     JOIN artists ON songs.artist_id = artists.artist_id     WHERE songs.title = Alexandra AND artists.name = Aventura AND songs.duration = 242.1024\n",
      "SELECT songs.song_id, artists.artist_id FROM songs     JOIN artists ON songs.artist_id = artists.artist_id     WHERE songs.title = Canada AND artists.name = Five Iron Frenzy AND songs.duration = 236.09424\n",
      "SELECT songs.song_id, artists.artist_id FROM songs     JOIN artists ON songs.artist_id = artists.artist_id     WHERE songs.title = Anthem For The Underdog AND artists.name = 12 Stones AND songs.duration = 184.0322\n",
      "SELECT songs.song_id, artists.artist_id FROM songs     JOIN artists ON songs.artist_id = artists.artist_id     WHERE songs.title = Revelry AND artists.name = Kings Of Leon AND songs.duration = 201.79546\n",
      "SELECT songs.song_id, artists.artist_id FROM songs     JOIN artists ON songs.artist_id = artists.artist_id     WHERE songs.title = Get Ready To Bounce Recall 08 AND artists.name = Brooklyn Bounce AND songs.duration = 359.13098\n",
      "SELECT songs.song_id, artists.artist_id FROM songs     JOIN artists ON songs.artist_id = artists.artist_id     WHERE songs.title = The Good Fight AND artists.name = Dashboard Confessional AND songs.duration = 147.30404\n",
      "SELECT songs.song_id, artists.artist_id FROM songs     JOIN artists ON songs.artist_id = artists.artist_id     WHERE songs.title = Low Land Moan AND artists.name = Lonnie Johnson AND songs.duration = 194.55955\n",
      "SELECT songs.song_id, artists.artist_id FROM songs     JOIN artists ON songs.artist_id = artists.artist_id     WHERE songs.title = In AND artists.name = Leggo Beast AND songs.duration = 376.58077\n",
      "SELECT songs.song_id, artists.artist_id FROM songs     JOIN artists ON songs.artist_id = artists.artist_id     WHERE songs.title = Sway AND artists.name = The Pussycat Dolls AND songs.duration = 190.95465\n",
      "SELECT songs.song_id, artists.artist_id FROM songs     JOIN artists ON songs.artist_id = artists.artist_id     WHERE songs.title = I Miss You Now AND artists.name = Stereophonics AND songs.duration = 290.53342\n",
      "SELECT songs.song_id, artists.artist_id FROM songs     JOIN artists ON songs.artist_id = artists.artist_id     WHERE songs.title = Masculine Eclipse AND artists.name = The Beautiful South AND songs.duration = 236.5122\n",
      "SELECT songs.song_id, artists.artist_id FROM songs     JOIN artists ON songs.artist_id = artists.artist_id     WHERE songs.title = As If Set Afire AND artists.name = The Acacia Strain AND songs.duration = 194.21995\n",
      "SELECT songs.song_id, artists.artist_id FROM songs     JOIN artists ON songs.artist_id = artists.artist_id     WHERE songs.title = Underwater World AND artists.name = ATB AND songs.duration = 251.48036\n",
      "SELECT songs.song_id, artists.artist_id FROM songs     JOIN artists ON songs.artist_id = artists.artist_id     WHERE songs.title = Our Last Time AND artists.name = The Robert Cray Band AND songs.duration = 309.52444\n",
      "SELECT songs.song_id, artists.artist_id FROM songs     JOIN artists ON songs.artist_id = artists.artist_id     WHERE songs.title = T.N.T. For The Brain (112 Bpm) (Radio Edit) AND artists.name = Enigma AND songs.duration = 242.78159\n",
      "SELECT songs.song_id, artists.artist_id FROM songs     JOIN artists ON songs.artist_id = artists.artist_id     WHERE songs.title = Tattered Banners And Bloody Flags AND artists.name = Amon Amarth AND songs.duration = 268.2771\n",
      "SELECT songs.song_id, artists.artist_id FROM songs     JOIN artists ON songs.artist_id = artists.artist_id     WHERE songs.title = The Great Escape (Album Version) (Explicit) AND artists.name = We Are Scientists AND songs.duration = 198.89587\n",
      "SELECT songs.song_id, artists.artist_id FROM songs     JOIN artists ON songs.artist_id = artists.artist_id     WHERE songs.title = Lacreme napulitane AND artists.name = Roberto Murolo AND songs.duration = 188.02893\n",
      "SELECT songs.song_id, artists.artist_id FROM songs     JOIN artists ON songs.artist_id = artists.artist_id     WHERE songs.title = Autobiography AND artists.name = Ashlee Simpson AND songs.duration = 214.43873\n",
      "SELECT songs.song_id, artists.artist_id FROM songs     JOIN artists ON songs.artist_id = artists.artist_id     WHERE songs.title = The Ecstasy Of Gold AND artists.name = Metallica AND songs.duration = 152.60689\n",
      "SELECT songs.song_id, artists.artist_id FROM songs     JOIN artists ON songs.artist_id = artists.artist_id     WHERE songs.title = Kryptonite AND artists.name = 3 Doors Down AND songs.duration = 233.74322\n",
      "SELECT songs.song_id, artists.artist_id FROM songs     JOIN artists ON songs.artist_id = artists.artist_id     WHERE songs.title = No Fool (For Love) AND artists.name = Hazell Dean AND songs.duration = 367.98649\n",
      "SELECT songs.song_id, artists.artist_id FROM songs     JOIN artists ON songs.artist_id = artists.artist_id     WHERE songs.title = Pray AND artists.name = Apocalyptica AND songs.duration = 262.5824\n",
      "SELECT songs.song_id, artists.artist_id FROM songs     JOIN artists ON songs.artist_id = artists.artist_id     WHERE songs.title = Bubble Toes AND artists.name = Jack Johnson AND songs.duration = 236.93016\n",
      "SELECT songs.song_id, artists.artist_id FROM songs     JOIN artists ON songs.artist_id = artists.artist_id     WHERE songs.title = Lotus AND artists.name = Cage The Elephant AND songs.duration = 196.38812\n",
      "SELECT songs.song_id, artists.artist_id FROM songs     JOIN artists ON songs.artist_id = artists.artist_id     WHERE songs.title = You Belong With Me AND artists.name = Taylor Swift AND songs.duration = 230.47791\n",
      "SELECT songs.song_id, artists.artist_id FROM songs     JOIN artists ON songs.artist_id = artists.artist_id     WHERE songs.title = Candy Rain AND artists.name = Soul For Real AND songs.duration = 271.25506\n",
      "SELECT songs.song_id, artists.artist_id FROM songs     JOIN artists ON songs.artist_id = artists.artist_id     WHERE songs.title = Firestarter AND artists.name = The Prodigy AND songs.duration = 225.09669\n",
      "SELECT songs.song_id, artists.artist_id FROM songs     JOIN artists ON songs.artist_id = artists.artist_id     WHERE songs.title = Addicted AND artists.name = Amy Winehouse AND songs.duration = 165.11955\n",
      "SELECT songs.song_id, artists.artist_id FROM songs     JOIN artists ON songs.artist_id = artists.artist_id     WHERE songs.title = The Evil That Men Do (1998 Digital Remaster) AND artists.name = Iron Maiden AND songs.duration = 275.19955\n",
      "SELECT songs.song_id, artists.artist_id FROM songs     JOIN artists ON songs.artist_id = artists.artist_id     WHERE songs.title = All Around Me AND artists.name = David Crowder*Band AND songs.duration = 276.74077\n",
      "SELECT songs.song_id, artists.artist_id FROM songs     JOIN artists ON songs.artist_id = artists.artist_id     WHERE songs.title = Everyday AND artists.name = The Cinematic Orchestra AND songs.duration = 622.2624\n",
      "SELECT songs.song_id, artists.artist_id FROM songs     JOIN artists ON songs.artist_id = artists.artist_id     WHERE songs.title = Feel It AND artists.name = Three 6 Mafia vs. TiÃÂ«sto with Sean Kingston and Flo Rida AND songs.duration = 241.05751\n",
      "SELECT songs.song_id, artists.artist_id FROM songs     JOIN artists ON songs.artist_id = artists.artist_id     WHERE songs.title = Overload AND artists.name = Sugababes AND songs.duration = 275.93098\n",
      "SELECT songs.song_id, artists.artist_id FROM songs     JOIN artists ON songs.artist_id = artists.artist_id     WHERE songs.title = Hold You AND artists.name = Gyptian AND songs.duration = 233.09016\n",
      "SELECT songs.song_id, artists.artist_id FROM songs     JOIN artists ON songs.artist_id = artists.artist_id     WHERE songs.title = The Way She Moves AND artists.name = Zion / Akon AND songs.duration = 233.19465\n",
      "SELECT songs.song_id, artists.artist_id FROM songs     JOIN artists ON songs.artist_id = artists.artist_id     WHERE songs.title = I Want Your Love AND artists.name = Transvision Vamp AND songs.duration = 209.91955\n",
      "SELECT songs.song_id, artists.artist_id FROM songs     JOIN artists ON songs.artist_id = artists.artist_id     WHERE songs.title = Corrido de Boxeo AND artists.name = Ry Cooder AND songs.duration = 201.56036\n",
      "SELECT songs.song_id, artists.artist_id FROM songs     JOIN artists ON songs.artist_id = artists.artist_id     WHERE songs.title = When I Grow Up AND artists.name = The Pussycat Dolls AND songs.duration = 245.18485\n",
      "SELECT songs.song_id, artists.artist_id FROM songs     JOIN artists ON songs.artist_id = artists.artist_id     WHERE songs.title = Yellow AND artists.name = Coldplay AND songs.duration = 268.30322\n",
      "SELECT songs.song_id, artists.artist_id FROM songs     JOIN artists ON songs.artist_id = artists.artist_id     WHERE songs.title = She Likes (Bittersweet Love) AND artists.name = Forever The Sickest Kids AND songs.duration = 169.482\n",
      "SELECT songs.song_id, artists.artist_id FROM songs     JOIN artists ON songs.artist_id = artists.artist_id     WHERE songs.title = Believe That AND artists.name = Lil Wayne / Blaque / Mannie Fresh AND songs.duration = 255.34649\n",
      "SELECT songs.song_id, artists.artist_id FROM songs     JOIN artists ON songs.artist_id = artists.artist_id     WHERE songs.title = Through The Fire And Flames (Album Version) AND artists.name = Dragonforce AND songs.duration = 441.02485\n",
      "SELECT songs.song_id, artists.artist_id FROM songs     JOIN artists ON songs.artist_id = artists.artist_id     WHERE songs.title = Lucky (Album Version) AND artists.name = Jason Mraz & Colbie Caillat AND songs.duration = 189.6224\n",
      "SELECT songs.song_id, artists.artist_id FROM songs     JOIN artists ON songs.artist_id = artists.artist_id     WHERE songs.title = Is She Weird AND artists.name = Pixies AND songs.duration = 181.13261\n",
      "SELECT songs.song_id, artists.artist_id FROM songs     JOIN artists ON songs.artist_id = artists.artist_id     WHERE songs.title = Without Me AND artists.name = Eminem AND songs.duration = 251.55873\n",
      "SELECT songs.song_id, artists.artist_id FROM songs     JOIN artists ON songs.artist_id = artists.artist_id     WHERE songs.title = Cry No More AND artists.name = Buju Banton AND songs.duration = 232.48934\n",
      "SELECT songs.song_id, artists.artist_id FROM songs     JOIN artists ON songs.artist_id = artists.artist_id     WHERE songs.title = Lotus AND artists.name = Cage The Elephant AND songs.duration = 196.38812\n",
      "SELECT songs.song_id, artists.artist_id FROM songs     JOIN artists ON songs.artist_id = artists.artist_id     WHERE songs.title = Horn Concerto No. 4 in E flat K495: II. Romance (Andante cantabile) AND artists.name = Barry Tuckwell/Academy of St Martin-in-the-Fields/Sir Neville Marriner AND songs.duration = 277.15873\n",
      "SELECT songs.song_id, artists.artist_id FROM songs     JOIN artists ON songs.artist_id = artists.artist_id     WHERE songs.title = Le Million AND artists.name = Ste Strausz AND songs.duration = 285.36118\n",
      "SELECT songs.song_id, artists.artist_id FROM songs     JOIN artists ON songs.artist_id = artists.artist_id     WHERE songs.title = Only Superstition AND artists.name = Coldplay AND songs.duration = 228.62322\n",
      "SELECT songs.song_id, artists.artist_id FROM songs     JOIN artists ON songs.artist_id = artists.artist_id     WHERE songs.title = Bedroom Suite AND artists.name = Joe Christmas AND songs.duration = 185.7824\n",
      "SELECT songs.song_id, artists.artist_id FROM songs     JOIN artists ON songs.artist_id = artists.artist_id     WHERE songs.title = A New Arrangement AND artists.name = Bright Eyes AND songs.duration = 313.23383\n",
      "SELECT songs.song_id, artists.artist_id FROM songs     JOIN artists ON songs.artist_id = artists.artist_id     WHERE songs.title = The Only Exception (Album Version) AND artists.name = Paramore AND songs.duration = 267.65016\n",
      "SELECT songs.song_id, artists.artist_id FROM songs     JOIN artists ON songs.artist_id = artists.artist_id     WHERE songs.title = Sinisten tÃÂ¤htien alla AND artists.name = J. Karjalainen & Mustat Lasit AND songs.duration = 336.74404\n",
      "SELECT songs.song_id, artists.artist_id FROM songs     JOIN artists ON songs.artist_id = artists.artist_id     WHERE songs.title = Knee 2 AND artists.name = Philip Glass AND songs.duration = 368.40444\n",
      "SELECT songs.song_id, artists.artist_id FROM songs     JOIN artists ON songs.artist_id = artists.artist_id     WHERE songs.title = SinceritÃÂ© Et Jalousie AND artists.name = Alliance Ethnik AND songs.duration = 195.94404\n",
      "SELECT songs.song_id, artists.artist_id FROM songs     JOIN artists ON songs.artist_id = artists.artist_id     WHERE songs.title = Her Voice Is Beyond Her Years AND artists.name = Mew AND songs.duration = 167.75791\n",
      "SELECT songs.song_id, artists.artist_id FROM songs     JOIN artists ON songs.artist_id = artists.artist_id     WHERE songs.title = If You Leave Me Now AND artists.name = Ive Mendes AND songs.duration = 238.94159\n",
      "SELECT songs.song_id, artists.artist_id FROM songs     JOIN artists ON songs.artist_id = artists.artist_id     WHERE songs.title = SinceritÃÂ© Et Jalousie AND artists.name = Alliance Ethnik AND songs.duration = 195.94404\n",
      "SELECT songs.song_id, artists.artist_id FROM songs     JOIN artists ON songs.artist_id = artists.artist_id     WHERE songs.title = Diamond Dave AND artists.name = the bird and the bee AND songs.duration = 193.802\n",
      "SELECT songs.song_id, artists.artist_id FROM songs     JOIN artists ON songs.artist_id = artists.artist_id     WHERE songs.title = 1999 AND artists.name = Common / Sadat X AND songs.duration = 256.20853\n",
      "SELECT songs.song_id, artists.artist_id FROM songs     JOIN artists ON songs.artist_id = artists.artist_id     WHERE songs.title = King Of Pain (Live/Unplugged Version) AND artists.name = Alanis Morissette AND songs.duration = 245.15873\n",
      "SELECT songs.song_id, artists.artist_id FROM songs     JOIN artists ON songs.artist_id = artists.artist_id     WHERE songs.title = Rebirthing (Album Version) AND artists.name = Skillet AND songs.duration = 233.32526\n",
      "SELECT songs.song_id, artists.artist_id FROM songs     JOIN artists ON songs.artist_id = artists.artist_id     WHERE songs.title = Beauty and the Beast AND artists.name = James Galway;Julian Lee AND songs.duration = 218.67057\n",
      "SELECT songs.song_id, artists.artist_id FROM songs     JOIN artists ON songs.artist_id = artists.artist_id     WHERE songs.title = Dressed For Friend Requests (Album Version) AND artists.name = Drop Dead_ Gorgeous AND songs.duration = 156.70812\n",
      "SELECT songs.song_id, artists.artist_id FROM songs     JOIN artists ON songs.artist_id = artists.artist_id     WHERE songs.title = You're The One AND artists.name = Dwight Yoakam AND songs.duration = 239.3073\n",
      "SELECT songs.song_id, artists.artist_id FROM songs     JOIN artists ON songs.artist_id = artists.artist_id     WHERE songs.title = Tuesday's Child AND artists.name = Trouble AND songs.duration = 205.11302\n",
      "SELECT songs.song_id, artists.artist_id FROM songs     JOIN artists ON songs.artist_id = artists.artist_id     WHERE songs.title = All The Right Moves AND artists.name = OneRepublic AND songs.duration = 237.97506\n",
      "SELECT songs.song_id, artists.artist_id FROM songs     JOIN artists ON songs.artist_id = artists.artist_id     WHERE songs.title = Wicked AND artists.name = Switchblade Symphony AND songs.duration = 259.5522\n",
      "SELECT songs.song_id, artists.artist_id FROM songs     JOIN artists ON songs.artist_id = artists.artist_id     WHERE songs.title = My Distressor 40Khz ReRub Mix AND artists.name = Sharooz AND songs.duration = 234.05669\n",
      "SELECT songs.song_id, artists.artist_id FROM songs     JOIN artists ON songs.artist_id = artists.artist_id     WHERE songs.title = Six Days At The Bottom Of The Ocean AND artists.name = Explosions In The Sky AND songs.duration = 522.9971\n",
      "SELECT songs.song_id, artists.artist_id FROM songs     JOIN artists ON songs.artist_id = artists.artist_id     WHERE songs.title = Little Bird AND artists.name = Emmylou Harris AND songs.duration = 194.63791\n",
      "SELECT songs.song_id, artists.artist_id FROM songs     JOIN artists ON songs.artist_id = artists.artist_id     WHERE songs.title = The Horizon Has Been Defeated AND artists.name = Jack Johnson AND songs.duration = 153.67791\n",
      "SELECT songs.song_id, artists.artist_id FROM songs     JOIN artists ON songs.artist_id = artists.artist_id     WHERE songs.title = Everything In Its Right Place AND artists.name = Radiohead AND songs.duration = 249.93914\n",
      "SELECT songs.song_id, artists.artist_id FROM songs     JOIN artists ON songs.artist_id = artists.artist_id     WHERE songs.title = Heretics AND artists.name = Andrew Bird AND songs.duration = 215.87546\n",
      "SELECT songs.song_id, artists.artist_id FROM songs     JOIN artists ON songs.artist_id = artists.artist_id     WHERE songs.title = Sabbra Cadabra AND artists.name = Metallica AND songs.duration = 380.21179\n",
      "SELECT songs.song_id, artists.artist_id FROM songs     JOIN artists ON songs.artist_id = artists.artist_id     WHERE songs.title = Catch You Baby (Steve Pitron & Max Sanna Radio Edit) AND artists.name = Lonnie Gordon AND songs.duration = 181.21098\n",
      "SELECT songs.song_id, artists.artist_id FROM songs     JOIN artists ON songs.artist_id = artists.artist_id     WHERE songs.title = Shattered AND artists.name = Dropkick Murphys AND songs.duration = 167.73179\n",
      "SELECT songs.song_id, artists.artist_id FROM songs     JOIN artists ON songs.artist_id = artists.artist_id     WHERE songs.title = As The Rhyme Goes On AND artists.name = Eric B. & Rakim AND songs.duration = 240.32608\n",
      "SELECT songs.song_id, artists.artist_id FROM songs     JOIN artists ON songs.artist_id = artists.artist_id     WHERE songs.title = Settle For A Slowdown AND artists.name = Dierks Bentley AND songs.duration = 223.242\n",
      "SELECT songs.song_id, artists.artist_id FROM songs     JOIN artists ON songs.artist_id = artists.artist_id     WHERE songs.title = Daniel Cowman AND artists.name = Regina Spektor AND songs.duration = 290.14159\n",
      "SELECT songs.song_id, artists.artist_id FROM songs     JOIN artists ON songs.artist_id = artists.artist_id     WHERE songs.title = Make You Sin AND artists.name = Angelspit AND songs.duration = 241.94567\n",
      "SELECT songs.song_id, artists.artist_id FROM songs     JOIN artists ON songs.artist_id = artists.artist_id     WHERE songs.title = Roc U AND artists.name = Young Gunz / Beanie Sigel AND songs.duration = 292.44036\n",
      "SELECT songs.song_id, artists.artist_id FROM songs     JOIN artists ON songs.artist_id = artists.artist_id     WHERE songs.title = Sexy Bitch AND artists.name = DJ Dizzy AND songs.duration = 221.1522\n",
      "SELECT songs.song_id, artists.artist_id FROM songs     JOIN artists ON songs.artist_id = artists.artist_id     WHERE songs.title = Sayonara-Nostalgia AND artists.name = Base Ball Bear AND songs.duration = 255.60771\n",
      "SELECT songs.song_id, artists.artist_id FROM songs     JOIN artists ON songs.artist_id = artists.artist_id     WHERE songs.title = In The Hands Of The Gods (Featuring Biz Markie) AND artists.name = Morcheeba AND songs.duration = 101.95546\n",
      "SELECT songs.song_id, artists.artist_id FROM songs     JOIN artists ON songs.artist_id = artists.artist_id     WHERE songs.title = Don't Forget To Breathe AND artists.name = Bitter:Sweet AND songs.duration = 194.16771\n",
      "SELECT songs.song_id, artists.artist_id FROM songs     JOIN artists ON songs.artist_id = artists.artist_id     WHERE songs.title = Now You're Gone AND artists.name = Basshunter Feat. DJ Mental Theo\u0019s Bazzheadz AND songs.duration = 152.65914\n",
      "SELECT songs.song_id, artists.artist_id FROM songs     JOIN artists ON songs.artist_id = artists.artist_id     WHERE songs.title = Undo AND artists.name = BjÃÂ¶rk AND songs.duration = 348.57751\n",
      "SELECT songs.song_id, artists.artist_id FROM songs     JOIN artists ON songs.artist_id = artists.artist_id     WHERE songs.title = G4L AND artists.name = Rihanna AND songs.duration = 239.75138\n",
      "SELECT songs.song_id, artists.artist_id FROM songs     JOIN artists ON songs.artist_id = artists.artist_id     WHERE songs.title = Hello AND artists.name = Evanescence AND songs.duration = 220.3424\n",
      "SELECT songs.song_id, artists.artist_id FROM songs     JOIN artists ON songs.artist_id = artists.artist_id     WHERE songs.title = Tamale AND artists.name = Mr. Vegas AND songs.duration = 240.69179\n",
      "SELECT songs.song_id, artists.artist_id FROM songs     JOIN artists ON songs.artist_id = artists.artist_id     WHERE songs.title = Another Place AND artists.name = Mischa Daniels AND songs.duration = 419.81342\n",
      "SELECT songs.song_id, artists.artist_id FROM songs     JOIN artists ON songs.artist_id = artists.artist_id     WHERE songs.title = Straight To Hell AND artists.name = The Menzingers AND songs.duration = 276.00934\n",
      "SELECT songs.song_id, artists.artist_id FROM songs     JOIN artists ON songs.artist_id = artists.artist_id     WHERE songs.title = Cry Me A River AND artists.name = Justin Timberlake AND songs.duration = 288.93995\n",
      "SELECT songs.song_id, artists.artist_id FROM songs     JOIN artists ON songs.artist_id = artists.artist_id     WHERE songs.title = Un Camino Hasta Vos AND artists.name = Vilma Palma e Vampiros AND songs.duration = 338.18077\n",
      "SELECT songs.song_id, artists.artist_id FROM songs     JOIN artists ON songs.artist_id = artists.artist_id     WHERE songs.title = Sura (2008 Digital Remaster) AND artists.name = CCCP - Fedeli Alla Linea AND songs.duration = 329.66485\n",
      "SELECT songs.song_id, artists.artist_id FROM songs     JOIN artists ON songs.artist_id = artists.artist_id     WHERE songs.title = Pursuit Of Happiness (nightmare) AND artists.name = Kid Cudi / MGMT / Ratatat AND songs.duration = 295.67955\n",
      "SELECT songs.song_id, artists.artist_id FROM songs     JOIN artists ON songs.artist_id = artists.artist_id     WHERE songs.title = Forever AND artists.name = Drake / Kanye West / Lil Wayne / Eminem AND songs.duration = 357.66812\n",
      "SELECT songs.song_id, artists.artist_id FROM songs     JOIN artists ON songs.artist_id = artists.artist_id     WHERE songs.title = Homesick [Acoustic] AND artists.name = A Day To Remember AND songs.duration = 247.64036\n",
      "SELECT songs.song_id, artists.artist_id FROM songs     JOIN artists ON songs.artist_id = artists.artist_id     WHERE songs.title = Dead And Gone [feat. Justin Timberlake] (Explicit Album Version) AND artists.name = T.I. AND songs.duration = 299.75465\n",
      "SELECT songs.song_id, artists.artist_id FROM songs     JOIN artists ON songs.artist_id = artists.artist_id     WHERE songs.title = It'll Be a Long Time (Album Version) AND artists.name = The Offspring AND songs.duration = 163.3171\n",
      "SELECT songs.song_id, artists.artist_id FROM songs     JOIN artists ON songs.artist_id = artists.artist_id     WHERE songs.title = Esta Es Para Hacerte FÃÂ©liz AND artists.name = Jorge Gonzalez AND songs.duration = 272.14322\n",
      "SELECT songs.song_id, artists.artist_id FROM songs     JOIN artists ON songs.artist_id = artists.artist_id     WHERE songs.title = Spin Spin Sugar AND artists.name = Sneaker Pimps AND songs.duration = 260.91057\n",
      "SELECT songs.song_id, artists.artist_id FROM songs     JOIN artists ON songs.artist_id = artists.artist_id     WHERE songs.title = This War Is Ours (The Guillotine II) AND artists.name = Escape The Fate AND songs.duration = 266.73587\n",
      "SELECT songs.song_id, artists.artist_id FROM songs     JOIN artists ON songs.artist_id = artists.artist_id     WHERE songs.title = La Vida Es Un Ratico AND artists.name = Juanes AND songs.duration = 243.27791\n",
      "SELECT songs.song_id, artists.artist_id FROM songs     JOIN artists ON songs.artist_id = artists.artist_id     WHERE songs.title = Never Mind AND artists.name = The Replacements AND songs.duration = 170.57914\n",
      "SELECT songs.song_id, artists.artist_id FROM songs     JOIN artists ON songs.artist_id = artists.artist_id     WHERE songs.title = Possession AND artists.name = Sarah McLachlan AND songs.duration = 278.90893\n",
      "SELECT songs.song_id, artists.artist_id FROM songs     JOIN artists ON songs.artist_id = artists.artist_id     WHERE songs.title = Don't Start Me Talkin' AND artists.name = Sonny Boy Williamson AND songs.duration = 152.24118\n",
      "SELECT songs.song_id, artists.artist_id FROM songs     JOIN artists ON songs.artist_id = artists.artist_id     WHERE songs.title = Back To Life (However Do You Want Me) (2003 Digital Remaster) (Feat. Caron Wheeler) AND artists.name = Soul II Soul Featuring Caron Wheeler AND songs.duration = 225.2273\n",
      "SELECT songs.song_id, artists.artist_id FROM songs     JOIN artists ON songs.artist_id = artists.artist_id     WHERE songs.title = Dog Days Are Over (Radio Edit) AND artists.name = Florence + The Machine AND songs.duration = 219.66322\n",
      "SELECT songs.song_id, artists.artist_id FROM songs     JOIN artists ON songs.artist_id = artists.artist_id     WHERE songs.title = Heresy  (LP Version) AND artists.name = Pantera AND songs.duration = 286.69342\n",
      "SELECT songs.song_id, artists.artist_id FROM songs     JOIN artists ON songs.artist_id = artists.artist_id     WHERE songs.title = Remedy AND artists.name = Cold AND songs.duration = 177.76281\n",
      "SELECT songs.song_id, artists.artist_id FROM songs     JOIN artists ON songs.artist_id = artists.artist_id     WHERE songs.title = Frozen Angel AND artists.name = Norther AND songs.duration = 246.54322\n",
      "SELECT songs.song_id, artists.artist_id FROM songs     JOIN artists ON songs.artist_id = artists.artist_id     WHERE songs.title = The Pretender AND artists.name = Foo Fighters AND songs.duration = 271.38567\n",
      "SELECT songs.song_id, artists.artist_id FROM songs     JOIN artists ON songs.artist_id = artists.artist_id     WHERE songs.title = Besos De Ceniza AND artists.name = Timbiriche AND songs.duration = 202.60526\n",
      "SELECT songs.song_id, artists.artist_id FROM songs     JOIN artists ON songs.artist_id = artists.artist_id     WHERE songs.title = Rose AND artists.name = A Perfect Circle AND songs.duration = 206.05342\n",
      "SELECT songs.song_id, artists.artist_id FROM songs     JOIN artists ON songs.artist_id = artists.artist_id     WHERE songs.title = The Haunting AND artists.name = Anberlin AND songs.duration = 348.682\n",
      "SELECT songs.song_id, artists.artist_id FROM songs     JOIN artists ON songs.artist_id = artists.artist_id     WHERE songs.title = Anything You Say (Unreleased Version) AND artists.name = Deas Vail AND songs.duration = 237.68771\n"
     ]
    }
   ],
   "source": [
    "for index, row in df.iterrows():\n",
    "    # get songid and artistid from song and artist tables\n",
    "    print(song_select % (row.song, row.artist, row.length))\n",
    "    cur.execute(song_select, (row.song, row.artist, row.length))\n",
    "    results = cur.fetchone()\n",
    "    \n",
    "    if results:\n",
    "        songid, artistid = results\n",
    "    else:\n",
    "        songid, artistid = None, None\n",
    "\n",
    "    # insert songplay record\n",
    "    songplay_data = (pd.to_datetime(row.ts, unit='ms'), row.userId, row.level, songid, artistid, row.sessionId, row.location, row.userAgent)\n",
    "    try:\n",
    "        cur.execute(songplay_table_insert, songplay_data)\n",
    "    except psycopg2.Error as e:\n",
    "        print(\"Error: Insert Songplay Table\")\n",
    "        break\n",
    "    conn.commit()"
   ]
  },
  {
   "cell_type": "markdown",
   "metadata": {
    "editable": true
   },
   "source": [
    "Run `test.ipynb` to see if you've successfully added records to this table."
   ]
  },
  {
   "cell_type": "markdown",
   "metadata": {
    "editable": true
   },
   "source": [
    "# Close Connection to Sparkify Database"
   ]
  },
  {
   "cell_type": "code",
   "execution_count": 43,
   "metadata": {
    "editable": true
   },
   "outputs": [],
   "source": [
    "conn.close()"
   ]
  },
  {
   "cell_type": "markdown",
   "metadata": {
    "editable": true
   },
   "source": [
    "# Implement `etl.py`\n",
    "Use what you've completed in this notebook to implement `etl.py`."
   ]
  },
  {
   "cell_type": "code",
   "execution_count": null,
   "metadata": {
    "editable": true
   },
   "outputs": [],
   "source": []
  },
  {
   "cell_type": "code",
   "execution_count": null,
   "metadata": {
    "editable": true
   },
   "outputs": [],
   "source": []
  },
  {
   "cell_type": "code",
   "execution_count": null,
   "metadata": {
    "editable": true
   },
   "outputs": [],
   "source": []
  },
  {
   "cell_type": "code",
   "execution_count": null,
   "metadata": {
    "editable": true
   },
   "outputs": [],
   "source": []
  }
 ],
 "metadata": {
  "kernelspec": {
   "display_name": "Python 3",
   "language": "python",
   "name": "python3"
  },
  "language_info": {
   "codemirror_mode": {
    "name": "ipython",
    "version": 3
   },
   "file_extension": ".py",
   "mimetype": "text/x-python",
   "name": "python",
   "nbconvert_exporter": "python",
   "pygments_lexer": "ipython3",
   "version": "3.6.3"
  }
 },
 "nbformat": 4,
 "nbformat_minor": 4
}
